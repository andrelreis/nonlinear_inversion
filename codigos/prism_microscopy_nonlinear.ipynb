{
 "cells": [
  {
   "cell_type": "markdown",
   "metadata": {},
   "source": [
    "# Simulation of a prism applied to a Non-linear inverse problem"
   ]
  },
  {
   "cell_type": "markdown",
   "metadata": {},
   "source": [
    "## Importing libraries"
   ]
  },
  {
   "cell_type": "code",
   "execution_count": 1,
   "metadata": {
    "collapsed": false
   },
   "outputs": [],
   "source": [
    "%matplotlib inline\n",
    "from fatiando.gridder import regular, spacing\n",
    "from fatiando.mesher import Prism\n",
    "from fatiando.utils import ang2vec\n",
    "from fatiando.gravmag import prism\n",
    "from fatiando.constants import CM, T2NT\n",
    "import numpy as np\n",
    "import matplotlib.pyplot as plt\n",
    "from visual import histeq"
   ]
  },
  {
   "cell_type": "markdown",
   "metadata": {
    "collapsed": true
   },
   "source": [
    "## Prism parameters"
   ]
  },
  {
   "cell_type": "markdown",
   "metadata": {},
   "source": [
    "### Dimension of the prism"
   ]
  },
  {
   "cell_type": "code",
   "execution_count": 2,
   "metadata": {
    "collapsed": true
   },
   "outputs": [],
   "source": [
    "dimx = 5.  # in mm\n",
    "dimy = 5.\n",
    "dimz = 5."
   ]
  },
  {
   "cell_type": "code",
   "execution_count": 3,
   "metadata": {
    "collapsed": true
   },
   "outputs": [],
   "source": [
    "Lx = 1e-3*dimx"
   ]
  },
  {
   "cell_type": "code",
   "execution_count": 4,
   "metadata": {
    "collapsed": true
   },
   "outputs": [],
   "source": [
    "Ly = 1e-3*dimy"
   ]
  },
  {
   "cell_type": "code",
   "execution_count": 5,
   "metadata": {
    "collapsed": true
   },
   "outputs": [],
   "source": [
    "Lz = 1e-3*dimz"
   ]
  },
  {
   "cell_type": "markdown",
   "metadata": {},
   "source": [
    "### Sensor-to-sample distance"
   ]
  },
  {
   "cell_type": "code",
   "execution_count": 6,
   "metadata": {
    "collapsed": true
   },
   "outputs": [],
   "source": [
    "voo = 500.\n",
    "dist = voo*1e-6\n",
    "sts = dist + (0.5*Lz) "
   ]
  },
  {
   "cell_type": "markdown",
   "metadata": {},
   "source": [
    "## Parameters for the observation coordinate"
   ]
  },
  {
   "cell_type": "code",
   "execution_count": 7,
   "metadata": {
    "collapsed": true
   },
   "outputs": [],
   "source": [
    "Nx = 50\n",
    "Ny = 50\n",
    "shape = (Nx,Ny)"
   ]
  },
  {
   "cell_type": "code",
   "execution_count": 8,
   "metadata": {
    "collapsed": true
   },
   "outputs": [],
   "source": [
    "xmax = 1e-3*6.\n",
    "xmin = -xmax\n",
    "ymax = 1e-3*6.\n",
    "ymin = -ymax\n",
    "\n",
    "area = [xmin,xmax,ymin,ymax]"
   ]
  },
  {
   "cell_type": "code",
   "execution_count": 9,
   "metadata": {
    "collapsed": true
   },
   "outputs": [],
   "source": [
    "x,y,z = regular(area,shape, -sts)"
   ]
  },
  {
   "cell_type": "markdown",
   "metadata": {},
   "source": [
    "## Generating the sample"
   ]
  },
  {
   "cell_type": "code",
   "execution_count": 10,
   "metadata": {
    "collapsed": true
   },
   "outputs": [],
   "source": [
    "intensity = 0.1\n",
    "inclination = 90.\n",
    "declination = 0."
   ]
  },
  {
   "cell_type": "code",
   "execution_count": 11,
   "metadata": {
    "collapsed": true
   },
   "outputs": [],
   "source": [
    "mag = ang2vec(intensity,inclination,declination)"
   ]
  },
  {
   "cell_type": "code",
   "execution_count": 12,
   "metadata": {
    "collapsed": false
   },
   "outputs": [],
   "source": [
    "sample = [Prism(-0.5*Lx,0.5*Lx,-0.5*Ly,0.5*Ly,-0.5*Lz,0.5*Lz, props={'magnetization': mag})]"
   ]
  },
  {
   "cell_type": "markdown",
   "metadata": {},
   "source": [
    "## Calculating the observed data"
   ]
  },
  {
   "cell_type": "code",
   "execution_count": 13,
   "metadata": {
    "collapsed": false
   },
   "outputs": [],
   "source": [
    "Bz = prism.bz(x,y,z,sample)"
   ]
  },
  {
   "cell_type": "code",
   "execution_count": 14,
   "metadata": {
    "collapsed": false
   },
   "outputs": [
    {
     "name": "stdout",
     "output_type": "stream",
     "text": [
      "0.000 nT\n"
     ]
    }
   ],
   "source": [
    "np.random.seed(seed=40)\n",
    "\n",
    "std_noise = 0.00000005*np.max(np.abs(Bz))\n",
    "#std_noise = 0.05 # in nT\n",
    "\n",
    "r = np.random.normal(0.0, std_noise, Nx*Ny)\n",
    "\n",
    "print '%.3f nT' % std_noise"
   ]
  },
  {
   "cell_type": "code",
   "execution_count": 15,
   "metadata": {
    "collapsed": true
   },
   "outputs": [],
   "source": [
    "Bz_obs = Bz + r"
   ]
  },
  {
   "cell_type": "markdown",
   "metadata": {},
   "source": [
    "## Calculating the predicted data"
   ]
  },
  {
   "cell_type": "code",
   "execution_count": 16,
   "metadata": {
    "collapsed": false
   },
   "outputs": [],
   "source": [
    "def pred_data(x,y,z,sample,intensity,inc,dec):\n",
    "    '''\n",
    "    Calculate the predicted data.\n",
    "    '''\n",
    "    m = intensity\n",
    "    jx = np.cos(np.deg2rad(inc))*np.cos(np.deg2rad(dec))\n",
    "    jy = np.cos(np.deg2rad(inc))*np.sin(np.deg2rad(dec))\n",
    "    jz = np.sin(np.deg2rad(inc))\n",
    "    bz = prism.kernelxz(x,y,z,sample[0])*jx+\\\n",
    "         prism.kernelyz(x,y,z,sample[0])*jy+\\\n",
    "         prism.kernelzz(x,y,z,sample[0])*jz\n",
    "    bz *= CM*T2NT*m\n",
    "    return  bz"
   ]
  },
  {
   "cell_type": "code",
   "execution_count": 17,
   "metadata": {
    "collapsed": false
   },
   "outputs": [],
   "source": [
    "Bz_pred = pred_data(x,y,z,sample,intensity,inclination,declination)"
   ]
  },
  {
   "cell_type": "markdown",
   "metadata": {},
   "source": [
    "## Comparison between observed data and predicted data"
   ]
  },
  {
   "cell_type": "code",
   "execution_count": 18,
   "metadata": {
    "collapsed": false
   },
   "outputs": [
    {
     "data": {
      "image/png": "[encoded data removed]",
      "text/plain": [
       "<matplotlib.figure.Figure at 0x7fa8e5dbd110>"
      ]
     },
     "metadata": {},
     "output_type": "display_data"
    }
   ],
   "source": [
    "title_font = 22\n",
    "bottom_font = 16\n",
    "saturation_factor = 1.\n",
    "plt.close('all')\n",
    "plt.figure(figsize=(20,8))\n",
    "\n",
    "plt.subplot(1,2,1)\n",
    "ranges = saturation_factor*np.abs([Bz_obs.max(), Bz_obs.min()]).max()\n",
    "\n",
    "plt.contourf(y.reshape(shape), x.reshape(shape), Bz_obs.reshape(shape),30, cmap=plt.cm.RdBu_r, vmin=-ranges, vmax=ranges)\n",
    "plt.colorbar(pad=0.01, aspect=40, shrink=1.0).set_label('nT')\n",
    "plt.xlabel('y (m)', fontsize = title_font)\n",
    "plt.ylabel('x (m)', fontsize = title_font)\n",
    "plt.annotate('$\\mathbf{B}_z$ (observed)', xy = (0.05, 0.93), \n",
    "             xycoords = 'axes fraction', fontsize=24)\n",
    "\n",
    "plt.subplot(1,2,2)\n",
    "ranges = saturation_factor*np.abs([Bz_pred.max(), Bz_pred.min()]).max()\n",
    "\n",
    "plt.contourf(y.reshape(shape), x.reshape(shape), Bz_pred.reshape(shape), 30, cmap=plt.cm.RdBu_r, vmin=-ranges, vmax=ranges)\n",
    "plt.colorbar(pad=0.01, aspect=40, shrink=1.0).set_label('nT')\n",
    "plt.xlabel('y (m)', fontsize = title_font)\n",
    "plt.ylabel('x (m)', fontsize = title_font)\n",
    "plt.annotate('$\\mathbf{B}_z$ (predicted)', xy = (0.05, 0.93), xycoords = 'axes fraction', fontsize=24)\n",
    "\n",
    "plt.show()\n"
   ]
  },
  {
   "cell_type": "markdown",
   "metadata": {},
   "source": [
    "## Visualization of the data misfit"
   ]
  },
  {
   "cell_type": "code",
   "execution_count": 19,
   "metadata": {
    "collapsed": true
   },
   "outputs": [],
   "source": [
    "Nm = 50\n",
    "m_range = np.linspace(0.001,1.,num=Nm)"
   ]
  },
  {
   "cell_type": "code",
   "execution_count": 20,
   "metadata": {
    "collapsed": true
   },
   "outputs": [],
   "source": [
    "Nh = 50\n",
    "h_range = np.linspace(80.,600.,num=Nh)"
   ]
  },
  {
   "cell_type": "code",
   "execution_count": 21,
   "metadata": {
    "collapsed": true
   },
   "outputs": [],
   "source": [
    "m_range,h_range = np.meshgrid(m_range,h_range)"
   ]
  },
  {
   "cell_type": "code",
   "execution_count": 22,
   "metadata": {
    "collapsed": true
   },
   "outputs": [],
   "source": [
    "shape_phi = (Nm,Nh)"
   ]
  },
  {
   "cell_type": "code",
   "execution_count": 23,
   "metadata": {
    "collapsed": false
   },
   "outputs": [],
   "source": [
    "phi = []\n",
    "for mi,hi in zip (m_range.ravel(),h_range.ravel()):\n",
    "    dist = hi*1e-6\n",
    "    h = dist + (0.5*Lz) \n",
    "    x0,y0,z0 = regular(area,shape, -h)\n",
    "    Bz_pred_it = pred_data(x0,y0,z0,sample,mi,inclination,declination)\n",
    "    res = Bz_obs - Bz_pred_it \n",
    "    phi.append(np.linalg.norm(res))"
   ]
  },
  {
   "cell_type": "code",
   "execution_count": 25,
   "metadata": {
    "collapsed": false
   },
   "outputs": [
    {
     "data": {
      "image/png": "[encoded data removed]",
      "text/plain": [
       "<matplotlib.figure.Figure at 0x7fa8e30ee2d0>"
      ]
     },
     "metadata": {},
     "output_type": "display_data"
    }
   ],
   "source": [
    "title_font = 22\n",
    "bottom_font = 16\n",
    "saturation_factor = 1.\n",
    "plt.close('all')\n",
    "plt.figure(figsize=(10,8))\n",
    "plt.contourf(m_range, h_range, np.array(phi).reshape(shape_phi), 50)\n",
    "plt.plot(intensity,voo,'wo')\n",
    "plt.colorbar(pad=0.01, aspect=40, shrink=1.0)\n",
    "plt.xlabel('intensity', fontsize = title_font)\n",
    "plt.ylabel('sensor-to-sample distance', fontsize = title_font)\n",
    "plt.annotate('Data misfit', xy = (0.05, 0.93), xycoords = 'axes fraction', fontsize=20)\n",
    "\n",
    "plt.show()"
   ]
  },
  {
   "cell_type": "code",
   "execution_count": null,
   "metadata": {
    "collapsed": true
   },
   "outputs": [],
   "source": []
  }
 ],
 "metadata": {
  "kernelspec": {
   "display_name": "Python 2",
   "language": "python",
   "name": "python2"
  },
  "language_info": {
   "codemirror_mode": {
    "name": "ipython",
    "version": 2
   },
   "file_extension": ".py",
   "mimetype": "text/x-python",
   "name": "python",
   "nbconvert_exporter": "python",
   "pygments_lexer": "ipython2",
   "version": "2.7.13"
  }
 },
 "nbformat": 4,
 "nbformat_minor": 0
}
