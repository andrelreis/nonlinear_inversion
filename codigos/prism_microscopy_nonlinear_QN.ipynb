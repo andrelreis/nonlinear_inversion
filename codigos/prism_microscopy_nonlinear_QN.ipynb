{
 "cells": [
  {
   "cell_type": "markdown",
   "metadata": {},
   "source": [
    "# Simulation of a prism applied to a Non-linear inverse problem using Quasi-Newton Method"
   ]
  },
  {
   "cell_type": "markdown",
   "metadata": {},
   "source": [
    "## Importing libraries"
   ]
  },
  {
   "cell_type": "code",
   "execution_count": 1,
   "metadata": {
    "collapsed": false
   },
   "outputs": [],
   "source": [
    "%matplotlib inline\n",
    "from fatiando.gridder import regular, spacing\n",
    "from fatiando.mesher import Prism\n",
    "from fatiando.utils import ang2vec\n",
    "from fatiando.gravmag import prism\n",
    "from fatiando.constants import CM, T2NT\n",
    "import numpy as np\n",
    "import matplotlib.pyplot as plt\n",
    "from visual import histeq"
   ]
  },
  {
   "cell_type": "markdown",
   "metadata": {
    "collapsed": true
   },
   "source": [
    "## Prism parameters"
   ]
  },
  {
   "cell_type": "markdown",
   "metadata": {},
   "source": [
    "### Dimension of the prism"
   ]
  },
  {
   "cell_type": "code",
   "execution_count": 2,
   "metadata": {
    "collapsed": true
   },
   "outputs": [],
   "source": [
    "dimx = 5.  # in mm\n",
    "dimy = 5.\n",
    "dimz = 5."
   ]
  },
  {
   "cell_type": "code",
   "execution_count": 3,
   "metadata": {
    "collapsed": true
   },
   "outputs": [],
   "source": [
    "Lx = 1e-3*dimx"
   ]
  },
  {
   "cell_type": "code",
   "execution_count": 4,
   "metadata": {
    "collapsed": true
   },
   "outputs": [],
   "source": [
    "Ly = 1e-3*dimy"
   ]
  },
  {
   "cell_type": "code",
   "execution_count": 5,
   "metadata": {
    "collapsed": true
   },
   "outputs": [],
   "source": [
    "Lz = 1e-3*dimz"
   ]
  },
  {
   "cell_type": "markdown",
   "metadata": {},
   "source": [
    "### Sensor-to-sample distance"
   ]
  },
  {
   "cell_type": "code",
   "execution_count": 6,
   "metadata": {
    "collapsed": true
   },
   "outputs": [],
   "source": [
    "voo = 500.\n",
    "dist = voo*1e-6\n",
    "sts = dist + (0.5*Lz) "
   ]
  },
  {
   "cell_type": "markdown",
   "metadata": {},
   "source": [
    "## Parameters for the observation coordinate"
   ]
  },
  {
   "cell_type": "code",
   "execution_count": 7,
   "metadata": {
    "collapsed": true
   },
   "outputs": [],
   "source": [
    "Nx = 50\n",
    "Ny = 50\n",
    "shape = (Nx,Ny)"
   ]
  },
  {
   "cell_type": "code",
   "execution_count": 8,
   "metadata": {
    "collapsed": true
   },
   "outputs": [],
   "source": [
    "xmax = 1e-3*6.\n",
    "xmin = -xmax\n",
    "ymax = 1e-3*6.\n",
    "ymin = -ymax\n",
    "\n",
    "area = [xmin,xmax,ymin,ymax]"
   ]
  },
  {
   "cell_type": "code",
   "execution_count": 9,
   "metadata": {
    "collapsed": true
   },
   "outputs": [],
   "source": [
    "x,y,z = regular(area,shape, -sts)"
   ]
  },
  {
   "cell_type": "markdown",
   "metadata": {},
   "source": [
    "## Generating the sample"
   ]
  },
  {
   "cell_type": "code",
   "execution_count": 10,
   "metadata": {
    "collapsed": true
   },
   "outputs": [],
   "source": [
    "intensity = 0.1\n",
    "inclination = 90.\n",
    "declination = 0."
   ]
  },
  {
   "cell_type": "code",
   "execution_count": 11,
   "metadata": {
    "collapsed": true
   },
   "outputs": [],
   "source": [
    "mag = ang2vec(intensity,inclination,declination)"
   ]
  },
  {
   "cell_type": "code",
   "execution_count": 12,
   "metadata": {
    "collapsed": false
   },
   "outputs": [],
   "source": [
    "sample = [Prism(-0.5*Lx,0.5*Lx,-0.5*Ly,0.5*Ly,-0.5*Lz,0.5*Lz, props={'magnetization': mag})]"
   ]
  },
  {
   "cell_type": "markdown",
   "metadata": {},
   "source": [
    "## True Parameters"
   ]
  },
  {
   "cell_type": "code",
   "execution_count": 13,
   "metadata": {
    "collapsed": true
   },
   "outputs": [],
   "source": [
    "p_true = np.array([voo,intensity]) ## (sensor-to-sample,intensity)"
   ]
  },
  {
   "cell_type": "markdown",
   "metadata": {},
   "source": [
    "## Calculating the observed data"
   ]
  },
  {
   "cell_type": "code",
   "execution_count": 14,
   "metadata": {
    "collapsed": false
   },
   "outputs": [],
   "source": [
    "Bz = prism.bz(x,y,z,sample)"
   ]
  },
  {
   "cell_type": "code",
   "execution_count": 15,
   "metadata": {
    "collapsed": false
   },
   "outputs": [
    {
     "name": "stdout",
     "output_type": "stream",
     "text": [
      "0.896 nT\n"
     ]
    }
   ],
   "source": [
    "np.random.seed(seed=40)\n",
    "\n",
    "std_noise = 0.02*np.max(np.abs(Bz))\n",
    "\n",
    "r = np.random.normal(0.0, std_noise, Nx*Ny)\n",
    "\n",
    "print '%.3f nT' % std_noise"
   ]
  },
  {
   "cell_type": "code",
   "execution_count": 16,
   "metadata": {
    "collapsed": true
   },
   "outputs": [],
   "source": [
    "Bz_obs = Bz + r"
   ]
  },
  {
   "cell_type": "markdown",
   "metadata": {},
   "source": [
    "## Calculating the predicted data"
   ]
  },
  {
   "cell_type": "code",
   "execution_count": 17,
   "metadata": {
    "collapsed": false
   },
   "outputs": [],
   "source": [
    "def pred_data(x,y,p,sample,inc,dec):\n",
    "    '''\n",
    "    Calculate the predicted data.\n",
    "    '''\n",
    "    voo = p[0]\n",
    "    dist = voo*1e-6\n",
    "    sts = dist + (0.5*Lz) \n",
    "    z = -sts*np.ones_like(x)\n",
    "    \n",
    "    m = p[1]\n",
    "    jx = np.cos(np.deg2rad(inc))*np.cos(np.deg2rad(dec))\n",
    "    jy = np.cos(np.deg2rad(inc))*np.sin(np.deg2rad(dec))\n",
    "    jz = np.sin(np.deg2rad(inc))\n",
    "    bz = prism.kernelxz(x,y,z,sample[0])*jx+\\\n",
    "         prism.kernelyz(x,y,z,sample[0])*jy+\\\n",
    "         prism.kernelzz(x,y,z,sample[0])*jz\n",
    "    bz *= CM*T2NT*m\n",
    "    return  bz"
   ]
  },
  {
   "cell_type": "markdown",
   "metadata": {},
   "source": [
    "## Observed data and predicted data"
   ]
  },
  {
   "cell_type": "code",
   "execution_count": 18,
   "metadata": {
    "collapsed": false
   },
   "outputs": [
    {
     "data": {
      "image/png": "[encoded data removed]",
      "text/plain": [
       "<matplotlib.figure.Figure at 0x7fa68c60acd0>"
      ]
     },
     "metadata": {},
     "output_type": "display_data"
    }
   ],
   "source": [
    "title_font = 22\n",
    "bottom_font = 16\n",
    "saturation_factor = 1.\n",
    "plt.close('all')\n",
    "plt.figure(figsize=(10,8))\n",
    "\n",
    "ranges = saturation_factor*np.abs([Bz_obs.max(), Bz_obs.min()]).max()\n",
    "\n",
    "plt.contourf(y.reshape(shape), x.reshape(shape), Bz_obs.reshape(shape),30, cmap=plt.cm.RdBu_r, vmin=-ranges, vmax=ranges)\n",
    "plt.colorbar(pad=0.01, aspect=40, shrink=1.0).set_label('nT')\n",
    "plt.xlabel('y (m)', fontsize = title_font)\n",
    "plt.ylabel('x (m)', fontsize = title_font)\n",
    "plt.annotate('$\\mathbf{B}_z$ (observed)', xy = (0.05, 0.93), \n",
    "             xycoords = 'axes fraction', fontsize=24)\n",
    "\n",
    "plt.show()"
   ]
  },
  {
   "cell_type": "markdown",
   "metadata": {},
   "source": [
    "## Visualization of the data misfit"
   ]
  },
  {
   "cell_type": "code",
   "execution_count": 19,
   "metadata": {
    "collapsed": true
   },
   "outputs": [],
   "source": [
    "Nm = 20\n",
    "m_range = np.linspace(0.01,.2,num=Nm)"
   ]
  },
  {
   "cell_type": "code",
   "execution_count": 20,
   "metadata": {
    "collapsed": true
   },
   "outputs": [],
   "source": [
    "Nh = 20\n",
    "h_range = np.linspace(10.,1000.,num=Nh)"
   ]
  },
  {
   "cell_type": "code",
   "execution_count": 21,
   "metadata": {
    "collapsed": true
   },
   "outputs": [],
   "source": [
    "m_range,h_range = np.meshgrid(m_range,h_range)"
   ]
  },
  {
   "cell_type": "code",
   "execution_count": 22,
   "metadata": {
    "collapsed": true
   },
   "outputs": [],
   "source": [
    "shape_phi = (Nh,Nm)"
   ]
  },
  {
   "cell_type": "code",
   "execution_count": 23,
   "metadata": {
    "collapsed": false
   },
   "outputs": [],
   "source": [
    "misfit = []\n",
    "for mi,hi in zip (m_range.ravel(),h_range.ravel()):\n",
    "    p = np.array([hi,mi])\n",
    "    Bz_pred_it = pred_data(x,y,p,sample,inclination,declination)\n",
    "    res = Bz_obs - Bz_pred_it \n",
    "    misfit.append(np.linalg.norm(res))"
   ]
  },
  {
   "cell_type": "code",
   "execution_count": 24,
   "metadata": {
    "collapsed": false
   },
   "outputs": [
    {
     "data": {
      "image/png": "[encoded data removed]",
      "text/plain": [
       "<matplotlib.figure.Figure at 0x7fa68c60ac10>"
      ]
     },
     "metadata": {},
     "output_type": "display_data"
    }
   ],
   "source": [
    "title_font = 22\n",
    "bottom_font = 16\n",
    "saturation_factor = 1.\n",
    "plt.close('all')\n",
    "plt.figure(figsize=(10,8))\n",
    "plt.contourf(h_range, m_range, np.array(misfit).reshape(shape_phi), 50)\n",
    "plt.plot(voo,intensity,'w*',markersize=15)\n",
    "plt.colorbar(pad=0.01, aspect=40, shrink=1.0)\n",
    "plt.xlabel('h (sensor-to-sample)', fontsize = title_font)\n",
    "plt.ylabel('m (intensity)', fontsize = title_font)\n",
    "plt.annotate('Data misfit', xy = (0.05, 0.93), xycoords = 'axes fraction', fontsize=20)\n",
    "\n",
    "plt.show()"
   ]
  },
  {
   "cell_type": "markdown",
   "metadata": {},
   "source": [
    "## Calculating the Sensitivity matrix and the Gradient"
   ]
  },
  {
   "cell_type": "code",
   "execution_count": 25,
   "metadata": {
    "collapsed": true
   },
   "outputs": [],
   "source": [
    "def sensitivity(x,y,p,sample,inc,dec):\n",
    "    '''\n",
    "    Calculating the sensitivity matrix numerically.\n",
    "    '''\n",
    "    dp1 = .01*p[0]\n",
    "    dp2 = .01*p[1]\n",
    "    N = len(x)\n",
    "    \n",
    "    dhp = np.array([p[0]+dp1,p[1]])\n",
    "    dhm = np.array([p[0]-dp1,p[1]])\n",
    "    \n",
    "    dmp = np.array([p[0],p[1]+dp2])\n",
    "    dmm = np.array([p[0],p[1]-dp2])\n",
    "    \n",
    "    A = np.empty([N,2])\n",
    "    A[:,0] = (pred_data(x,y,dhp,sample,inc,dec) - pred_data(x,y,dhm,sample,inc,dec))/(2.*dp1)\n",
    "    A[:,1] = (pred_data(x,y,dmp,sample,inc,dec) - pred_data(x,y,dmm,sample,inc,dec))/(2.*dp2)\n",
    "    return A"
   ]
  },
  {
   "cell_type": "code",
   "execution_count": 26,
   "metadata": {
    "collapsed": true
   },
   "outputs": [],
   "source": [
    "def grad(x,y,p,B_obs,sample,inc,dec):\n",
    "    '''\n",
    "    Calculating the gradient using misfit\n",
    "    \n",
    "    '''\n",
    "    dp1 = .01*p[0]\n",
    "    dp2 = .01*p[1]\n",
    "        \n",
    "    dhp = np.array([p[0]+dp1,p[1]])\n",
    "    dhm = np.array([p[0]-dp1,p[1]])\n",
    "    \n",
    "    dmp = np.array([p[0],p[1]+dp2])\n",
    "    dmm = np.array([p[0],p[1]-dp2])\n",
    "    \n",
    "    dBp1 = (pred_data(x,y,dhp,sample,inc,dec) - pred_data(x,y,dhp,sample,inc,dec))/(2.*dp1)\n",
    "    dBp2 = (pred_data(x,y,dmp,sample,inc,dec) - pred_data(x,y,dmm,sample,inc,dec))/(2.*dp2)\n",
    "    \n",
    "    r1 = B_obs - dBp1\n",
    "    r2 = B_obs - dBp2\n",
    "    \n",
    "    J1 = np.sum(r1*r1)\n",
    "    J2 = np.sum(r2*r2)\n",
    "    \n",
    "    J = np.array([J1,J2])\n",
    "    return J"
   ]
  },
  {
   "cell_type": "code",
   "execution_count": 28,
   "metadata": {
    "collapsed": false
   },
   "outputs": [],
   "source": [
    "p0 = np.array([100.,.2])\n",
    "G0 = sensitivity(x,y,p0,sample,inclination,declination)\n",
    "B0 = pred_data(x,y,p0,sample,inclination,declination)\n",
    "r0 = Bz_obs - B0\n",
    "J0 = grad(x,y,p0,Bz_obs,sample,inclination,declination)\n",
    "grad0 = np.dot(G0.T,r0)"
   ]
  },
  {
   "cell_type": "code",
   "execution_count": 29,
   "metadata": {
    "collapsed": false
   },
   "outputs": [
    {
     "name": "stdout",
     "output_type": "stream",
     "text": [
      "[   605912.95207927  90540666.71130314]\n"
     ]
    }
   ],
   "source": [
    "print J0"
   ]
  },
  {
   "cell_type": "code",
   "execution_count": 30,
   "metadata": {
    "collapsed": false
   },
   "outputs": [
    {
     "name": "stdout",
     "output_type": "stream",
     "text": [
      "[  2.63811289e+03  -1.33221787e+07]\n"
     ]
    }
   ],
   "source": [
    "print grad0"
   ]
  },
  {
   "cell_type": "code",
   "execution_count": null,
   "metadata": {
    "collapsed": true
   },
   "outputs": [],
   "source": [
    "ççççççççççççççççççççççççççççççç"
   ]
  },
  {
   "cell_type": "markdown",
   "metadata": {},
   "source": [
    "## Performing the Gauss-Newton method "
   ]
  },
  {
   "cell_type": "code",
   "execution_count": null,
   "metadata": {
    "collapsed": false
   },
   "outputs": [],
   "source": [
    "itmax = 10\n",
    "eps = 1e-10\n",
    "\n",
    "alpha = 1.\n",
    "beta = 0.4 \n",
    "m = 0.\n",
    "c1 = 1e-4\n",
    "c2 = .9\n",
    "\n",
    "\n",
    "p0 = np.array([100.,.2])\n",
    "\n",
    "px = [p0[0]]\n",
    "py = [p0[1]]\n",
    "\n",
    "phi_it = []\n",
    "it  = []\n",
    "\n",
    "H0 = np.identity(2)\n",
    "for i in range(itmax):\n",
    "    B0 = pred_data(x,y,p0,sample,inclination,declination)\n",
    "    r0 = Bz_obs - B0\n",
    "    phi0 = np.linalg.norm(r0)\n",
    "    J0 = grad(x,y,p0,Bz_obs,sample,inclination,declination)\n",
    "        \n",
    "    dp0 = - np.dot(H0,J0)  \n",
    "    p = p0 + alpha*dp0\n",
    "         \n",
    "    B = pred_data(x,y,p,sample,inclination,declination)\n",
    "    r = Bz_obs - B\n",
    "    phi = np.linalg.norm(r)\n",
    "    J = grad(x,y,p,Bz_obs,sample,inclination,declination) \n",
    "    \n",
    "    y_qn = J - J0\n",
    "    s = p - p0\n",
    "    \n",
    "    while (phi - phi0) > (alpha*c1*np.sum(J0*dp0)) and abs(np.sum(J*dp0)) > abs(c2*np.sum(J0*dp0)):\n",
    "        m += 1.\n",
    "        alpha = beta**m\n",
    "        \n",
    "        p = p0 + alpha*dp0\n",
    "        \n",
    "        B = pred_data(x,y,p,sample,inclination,declination)\n",
    "        r = Bz_obs - B\n",
    "        phi = np.linalg.norm(r)\n",
    "        J = grad(x,y,p,Bz_obs,sample,inclination,declination)\n",
    "        \n",
    "        y_qn = J - J0\n",
    "        s = p - p0\n",
    "    \n",
    "    H = H0 - (np.dot(np.dot(H0,s.T),np.dot(s,H0)))/((np.dot(np.dot(s.T,H0),s))+(np.dot(y_qn.T,y_qn)/np.dot(y_qn.T,s)))\n",
    "    \n",
    "    H0 = H\n",
    "    J0 = J\n",
    "    r0 = r\n",
    "    phi0 = phi\n",
    "    B0=B\n",
    "    p0 = p\n",
    "    \n",
    "    px.append(p0[0])\n",
    "    py.append(p0[1])\n",
    "    phi_it.append(phi)\n",
    "    it.append(i)"
   ]
  },
  {
   "cell_type": "code",
   "execution_count": null,
   "metadata": {
    "collapsed": false
   },
   "outputs": [],
   "source": [
    "title_font = 22\n",
    "bottom_font = 16\n",
    "saturation_factor = 1.\n",
    "plt.close('all')\n",
    "plt.figure(figsize=(10,8))\n",
    "plt.contourf(h_range, m_range, np.array(misfit).reshape(shape_phi), 50)\n",
    "plt.plot(voo,intensity,'w*',markersize=15)\n",
    "plt.plot(px,py,'w.-')\n",
    "plt.colorbar(pad=0.01, aspect=40, shrink=1.0)\n",
    "plt.xlabel('h (sensor-to-sample)', fontsize = title_font)\n",
    "plt.ylabel('m (intensity)', fontsize = title_font)\n",
    "plt.annotate('Data misfit', xy = (0.05, 0.93), xycoords = 'axes fraction', fontsize=20)\n",
    "\n",
    "plt.show()"
   ]
  },
  {
   "cell_type": "markdown",
   "metadata": {
    "collapsed": true
   },
   "source": [
    "## Plotting misfit"
   ]
  },
  {
   "cell_type": "code",
   "execution_count": null,
   "metadata": {
    "collapsed": false
   },
   "outputs": [],
   "source": [
    "plt.figure(figsize=(10,8))\n",
    "\n",
    "plt.plot(it, phi_it, 'o-')\n",
    "plt.title('Gauss-Newton Method',fontsize=20)\n",
    "plt.ylabel('phi ',fontsize=15)\n",
    "plt.xlabel('Iteration',fontsize=15)\n",
    "\n",
    "plt.show()\n",
    "\n"
   ]
  },
  {
   "cell_type": "markdown",
   "metadata": {
    "collapsed": true
   },
   "source": [
    "## Data Fitting "
   ]
  },
  {
   "cell_type": "code",
   "execution_count": null,
   "metadata": {
    "collapsed": true
   },
   "outputs": [],
   "source": [
    "Bz_calc = pred_data(x,y,p0,sample,inclination,declination)"
   ]
  },
  {
   "cell_type": "code",
   "execution_count": null,
   "metadata": {
    "collapsed": true
   },
   "outputs": [],
   "source": [
    "res = Bz_obs - Bz_calc"
   ]
  },
  {
   "cell_type": "code",
   "execution_count": null,
   "metadata": {
    "collapsed": true
   },
   "outputs": [],
   "source": [
    "r_mean = np.mean(res)\n",
    "r_std = np.std(res)\n",
    "r_norm = (res - r_mean)/r_std"
   ]
  },
  {
   "cell_type": "code",
   "execution_count": null,
   "metadata": {
    "collapsed": false
   },
   "outputs": [],
   "source": [
    "title_font = 22\n",
    "bottom_font = 16\n",
    "saturation_factor = 1.\n",
    "plt.close('all')\n",
    "plt.figure(figsize=(27,9))\n",
    "\n",
    "ranges = saturation_factor*np.abs([Bz_obs.max(), Bz_obs.min()]).max()\n",
    "\n",
    "plt.subplot(1,4,1)\n",
    "\n",
    "plt.contourf(y.reshape(shape), x.reshape(shape), Bz_obs.reshape(shape),30, cmap=plt.cm.RdBu_r, vmin=-ranges, vmax=ranges)\n",
    "plt.colorbar(pad=0.01, aspect=40, shrink=1.0).set_label('nT')\n",
    "plt.xlabel('y (m)', fontsize = title_font)\n",
    "plt.ylabel('x (m)', fontsize = title_font)\n",
    "plt.title('$\\mathbf{B}_z$ (observed)',fontsize=title_font)\n",
    "\n",
    "plt.subplot(1,4,2)\n",
    "\n",
    "plt.contourf(y.reshape(shape), x.reshape(shape), Bz_calc.reshape(shape), 30, cmap=plt.cm.RdBu_r, vmin=-ranges, vmax=ranges)\n",
    "plt.colorbar(pad=0.01, aspect=40, shrink=1.0).set_label('nT')\n",
    "plt.xlabel('y (m)', fontsize = title_font)\n",
    "plt.ylabel('x (m)', fontsize = title_font)\n",
    "plt.title('$\\mathbf{B}_z$ (predicted)', fontsize=title_font)\n",
    "\n",
    "plt.subplot(1,4,3)\n",
    "ranges = saturation_factor*np.abs([res.max(), res.min()]).max()\n",
    "\n",
    "plt.contourf(y.reshape(shape), x.reshape(shape), res.reshape(shape), 30, cmap=plt.cm.RdBu_r, vmin=-ranges, vmax=ranges)\n",
    "plt.colorbar(pad=0.01, aspect=40, shrink=1.0).set_label('nT')\n",
    "plt.xlabel('y (m)', fontsize = title_font)\n",
    "plt.ylabel('x (m)', fontsize = title_font)\n",
    "plt.title('Residual map', fontsize=title_font)\n",
    "\n",
    "plt.subplot(1,4,4)\n",
    "plt.title('Normalized Histogram', fontsize=title_font)\n",
    "plt.xlabel('$\\mu$ = %.3f | $\\sigma$ = %.3f nT' % (r_mean, r_std), fontsize = bottom_font)\n",
    "nbins = int((np.max(r_norm) - np.min(r_norm)))\n",
    "plt.hist(r_norm,bins=nbins,normed=True)\n",
    "plt.ylim(0.,0.4)\n",
    "plt.xlim(-10., 10.)\n",
    "\n",
    "\n",
    "\n",
    "plt.show()"
   ]
  },
  {
   "cell_type": "code",
   "execution_count": null,
   "metadata": {
    "collapsed": true
   },
   "outputs": [],
   "source": []
  },
  {
   "cell_type": "code",
   "execution_count": null,
   "metadata": {
    "collapsed": true
   },
   "outputs": [],
   "source": []
  }
 ],
 "metadata": {
  "kernelspec": {
   "display_name": "Python 2",
   "language": "python",
   "name": "python2"
  },
  "language_info": {
   "codemirror_mode": {
    "name": "ipython",
    "version": 2
   },
   "file_extension": ".py",
   "mimetype": "text/x-python",
   "name": "python",
   "nbconvert_exporter": "python",
   "pygments_lexer": "ipython2",
   "version": "2.7.13"
  }
 },
 "nbformat": 4,
 "nbformat_minor": 0
}
