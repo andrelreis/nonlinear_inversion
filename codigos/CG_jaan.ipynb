{
 "cells": [
  {
   "cell_type": "markdown",
   "metadata": {},
   "source": [
    "# An optimization problem using Conjugate Gradient Method "
   ]
  },
  {
   "cell_type": "markdown",
   "metadata": {},
   "source": [
    "## Importing libraries"
   ]
  },
  {
   "cell_type": "code",
   "execution_count": 1,
   "metadata": {
    "collapsed": true
   },
   "outputs": [],
   "source": [
    "%matplotlib inline\n",
    "import numpy as np\n",
    "import matplotlib.pyplot as plt\n",
    "from visual import histeq"
   ]
  },
  {
   "cell_type": "markdown",
   "metadata": {
    "collapsed": true
   },
   "source": [
    "## Defining functions"
   ]
  },
  {
   "cell_type": "markdown",
   "metadata": {},
   "source": [
    "## Example 2.15 of Jaan "
   ]
  },
  {
   "cell_type": "code",
   "execution_count": 2,
   "metadata": {
    "collapsed": true
   },
   "outputs": [],
   "source": [
    "y = np.array([12.,-1.,5.])"
   ]
  },
  {
   "cell_type": "code",
   "execution_count": 10,
   "metadata": {
    "collapsed": false
   },
   "outputs": [],
   "source": [
    "A = np.array([[4.,-1.,1.],\n",
    "             [-1.,4.,-2.],\n",
    "             [1.,-2.,4.]])"
   ]
  },
  {
   "cell_type": "code",
   "execution_count": 11,
   "metadata": {
    "collapsed": false
   },
   "outputs": [
    {
     "name": "stdout",
     "output_type": "stream",
     "text": [
      "(3, 3)\n"
     ]
    }
   ],
   "source": [
    "print A.shape"
   ]
  },
  {
   "cell_type": "markdown",
   "metadata": {
    "collapsed": true
   },
   "source": [
    "## Calculating the Conjugate Gradient"
   ]
  },
  {
   "cell_type": "code",
   "execution_count": 52,
   "metadata": {
    "collapsed": false
   },
   "outputs": [],
   "source": [
    "it_max = 7\n",
    "eps = 1e-3\n",
    "\n",
    "p0 = np.array([0.,0.,0.])\n",
    "\n",
    "for i in range(it_max):\n",
    "    r0 = y - np.dot(A,p0)\n",
    "    dp0 = np.copy(r0)\n",
    "    alpha = (np.dot(dp0.T,r0))/(np.dot(dp0.T,np.dot(A,dp0)))\n",
    "    p0 += alpha*dp0\n",
    "    r = y - np.dot(A,p0)\n",
    "    if (np.linalg.norm(r)) < eps:\n",
    "        break\n",
    "    else:\n",
    "        beta = - (np.dot(r.T,np.dot(A,dp0)))/(np.dot(dp0.T,np.dot(A,dp0)))\n",
    "        dp = r + beta*dp0\n",
    "        r0 = r\n",
    "        dp0 = dp\n",
    "    \n",
    "    \n",
    "    \n",
    "     \n",
    "  \n",
    "\n"
   ]
  },
  {
   "cell_type": "code",
   "execution_count": 53,
   "metadata": {
    "collapsed": false
   },
   "outputs": [
    {
     "name": "stdout",
     "output_type": "stream",
     "text": [
      "[ 3.00298519  0.97793113  0.98721819]\n"
     ]
    }
   ],
   "source": [
    "print p0"
   ]
  },
  {
   "cell_type": "code",
   "execution_count": null,
   "metadata": {
    "collapsed": true
   },
   "outputs": [],
   "source": []
  }
 ],
 "metadata": {
  "kernelspec": {
   "display_name": "Python [Root]",
   "language": "python",
   "name": "Python [Root]"
  },
  "language_info": {
   "codemirror_mode": {
    "name": "ipython",
    "version": 2
   },
   "file_extension": ".py",
   "mimetype": "text/x-python",
   "name": "python",
   "nbconvert_exporter": "python",
   "pygments_lexer": "ipython2",
   "version": "2.7.12"
  }
 },
 "nbformat": 4,
 "nbformat_minor": 0
}
