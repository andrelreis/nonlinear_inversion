{
 "cells": [
  {
   "cell_type": "markdown",
   "metadata": {},
   "source": [
    "# An optimization problem using Conjugate Gradient Method "
   ]
  },
  {
   "cell_type": "markdown",
   "metadata": {},
   "source": [
    "## Importing libraries"
   ]
  },
  {
   "cell_type": "code",
   "execution_count": 1,
   "metadata": {
    "collapsed": true
   },
   "outputs": [],
   "source": [
    "%matplotlib inline\n",
    "import numpy as np\n",
    "import matplotlib.pyplot as plt\n",
    "from visual import histeq"
   ]
  },
  {
   "cell_type": "markdown",
   "metadata": {
    "collapsed": true
   },
   "source": [
    "## Defining functions"
   ]
  },
  {
   "cell_type": "markdown",
   "metadata": {},
   "source": [
    "## Example 2.15 of Jaan "
   ]
  },
  {
   "cell_type": "code",
   "execution_count": 2,
   "metadata": {
    "collapsed": true
   },
   "outputs": [],
   "source": [
    "y = np.array([12.,-1.,5.])"
   ]
  },
  {
   "cell_type": "code",
   "execution_count": 3,
   "metadata": {
    "collapsed": false
   },
   "outputs": [],
   "source": [
    "A = np.array([[4.,-1.,1.],\n",
    "             [-1.,4.,-2.],\n",
    "             [1.,-2.,4.]])"
   ]
  },
  {
   "cell_type": "code",
   "execution_count": 4,
   "metadata": {
    "collapsed": false
   },
   "outputs": [
    {
     "name": "stdout",
     "output_type": "stream",
     "text": [
      "(3, 3)\n"
     ]
    }
   ],
   "source": [
    "print A.shape"
   ]
  },
  {
   "cell_type": "markdown",
   "metadata": {
    "collapsed": true
   },
   "source": [
    "## Calculating the Conjugate Gradient"
   ]
  },
  {
   "cell_type": "markdown",
   "metadata": {},
   "source": [
    "### Algorithm 5.1"
   ]
  },
  {
   "cell_type": "code",
   "execution_count": 5,
   "metadata": {
    "collapsed": false
   },
   "outputs": [],
   "source": [
    "it_max = 7\n",
    "eps = 1e-3\n",
    "\n",
    "p01 = np.array([0.,0.,0.])\n",
    "\n",
    "for i in range(it_max):\n",
    "    r01 = y - np.dot(A,p01)\n",
    "    dp01 = np.copy(r01)\n",
    "    alpha = (np.dot(dp01.T,r01))/(np.dot(dp01.T,np.dot(A,dp01)))\n",
    "    p01 += alpha*dp01\n",
    "    r = y - np.dot(A,p01)\n",
    "    if (np.linalg.norm(r)) < eps:\n",
    "        break\n",
    "    else:\n",
    "        beta = - (np.dot(r.T,np.dot(A,dp01)))/(np.dot(dp01.T,np.dot(A,dp01)))\n",
    "        dp = r + beta*dp01\n",
    "        r01 = r\n",
    "        dp01 = dp"
   ]
  },
  {
   "cell_type": "code",
   "execution_count": 6,
   "metadata": {
    "collapsed": false
   },
   "outputs": [
    {
     "name": "stdout",
     "output_type": "stream",
     "text": [
      "[ 3.00298519  0.97793113  0.98721819]\n"
     ]
    }
   ],
   "source": [
    "print p01"
   ]
  },
  {
   "cell_type": "markdown",
   "metadata": {
    "collapsed": true
   },
   "source": [
    "### Algorithm 5.2"
   ]
  },
  {
   "cell_type": "code",
   "execution_count": 7,
   "metadata": {
    "collapsed": false
   },
   "outputs": [],
   "source": [
    "it_max = 7\n",
    "eps = 1e-3\n",
    "\n",
    "p02 = np.array([0.,0.,0.])\n",
    "\n",
    "for i in range(it_max):\n",
    "    r02 = y - np.dot(A,p02)\n",
    "    dp02 = np.copy(r02)\n",
    "    alpha = (np.dot(r02.T,r02))/(np.dot(dp02.T,np.dot(A,dp02)))\n",
    "    p02 += alpha*dp02\n",
    "    r += alpha*np.dot(A,dp02)\n",
    "    if (np.linalg.norm(r)) < eps:\n",
    "        break\n",
    "    else:\n",
    "        beta = - (np.dot(r.T,r))/(np.dot(r02.T,r02))\n",
    "        dp = r + beta*dp02\n",
    "        r02 = r\n",
    "        dp02 = dp"
   ]
  },
  {
   "cell_type": "code",
   "execution_count": 8,
   "metadata": {
    "collapsed": false
   },
   "outputs": [
    {
     "name": "stdout",
     "output_type": "stream",
     "text": [
      "[ 3.00298519  0.97793113  0.98721819]\n"
     ]
    }
   ],
   "source": [
    "print p02"
   ]
  },
  {
   "cell_type": "code",
   "execution_count": null,
   "metadata": {
    "collapsed": true
   },
   "outputs": [],
   "source": []
  }
 ],
 "metadata": {
  "kernelspec": {
   "display_name": "Python [Root]",
   "language": "python",
   "name": "Python [Root]"
  },
  "language_info": {
   "codemirror_mode": {
    "name": "ipython",
    "version": 2
   },
   "file_extension": ".py",
   "mimetype": "text/x-python",
   "name": "python",
   "nbconvert_exporter": "python",
   "pygments_lexer": "ipython2",
   "version": "2.7.12"
  }
 },
 "nbformat": 4,
 "nbformat_minor": 0
}
