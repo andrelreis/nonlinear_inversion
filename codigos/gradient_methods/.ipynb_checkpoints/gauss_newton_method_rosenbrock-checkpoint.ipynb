{
 "cells": [
  {
   "cell_type": "markdown",
   "metadata": {},
   "source": [
    "# An optimization using Gauss-Newton method"
   ]
  },
  {
   "cell_type": "markdown",
   "metadata": {},
   "source": [
    "## Importing libraries"
   ]
  },
  {
   "cell_type": "code",
   "execution_count": 1,
   "metadata": {
    "collapsed": true
   },
   "outputs": [],
   "source": [
    "%matplotlib inline\n",
    "import numpy as np\n",
    "import matplotlib.pyplot as plt\n",
    "from visual import histeq"
   ]
  },
  {
   "cell_type": "markdown",
   "metadata": {
    "collapsed": true
   },
   "source": [
    "## Defining functions"
   ]
  },
  {
   "cell_type": "markdown",
   "metadata": {
    "collapsed": true
   },
   "source": [
    "### Rosenbrock function"
   ]
  },
  {
   "cell_type": "code",
   "execution_count": 2,
   "metadata": {
    "collapsed": true
   },
   "outputs": [],
   "source": [
    "def rosenbrock(x,y):\n",
    "    '''\n",
    "    Calculate the rosenbrock function.   \n",
    "    \n",
    "    '''\n",
    "    p1 = x\n",
    "    p2 = y\n",
    "    z = 100.*(p2-p1**2)**2 + (1.- p1)**2\n",
    "    return z"
   ]
  },
  {
   "cell_type": "code",
   "execution_count": null,
   "metadata": {
    "collapsed": true
   },
   "outputs": [],
   "source": [
    "def rosenbrock_grad(x,y):\n",
    "    '''\n",
    "    Calculate the gradient of rosenbrock function.\n",
    "    '''\n",
    "    p1 = x\n",
    "    p2 = y\n",
    "    J1 = -400.*p1*(p2-p1**2) - 2.*(1.- p1)\n",
    "    J2 = 200.*(p2-p1**2)\n",
    "    J = np.array([J1,J2])\n",
    "    return J"
   ]
  },
  {
   "cell_type": "code",
   "execution_count": null,
   "metadata": {
    "collapsed": true
   },
   "outputs": [],
   "source": [
    "def residual_ros(x,y):\n",
    "    '''\n",
    "    Calculate the residual of rosenbrock function.\n",
    "    '''\n",
    "    p1 = x\n",
    "    p2 = y\n",
    "    J1 = 10.*(p2-p1**2)\n",
    "    J2 = (1.-p1)\n",
    "    r = np.array([J1,J2])\n",
    "    return r"
   ]
  },
  {
   "cell_type": "code",
   "execution_count": null,
   "metadata": {
    "collapsed": false
   },
   "outputs": [],
   "source": [
    "def sensitivity_ros(x,y):\n",
    "    '''\n",
    "    Calculate the sensitivity matrix of rosenbrock function.\n",
    "    '''\n",
    "    p1 = x\n",
    "    p2 = y\n",
    "    \n",
    "    A11 = -20.*p1\n",
    "    A12 = 10.\n",
    "    A21 = -1.\n",
    "    A22 = 0.\n",
    "    A = np.array([A11,A12,A21,A22]).reshape(2,2)\n",
    "    return A"
   ]
  },
  {
   "cell_type": "markdown",
   "metadata": {},
   "source": [
    "## Parameters for calculating the rosenbrock function "
   ]
  },
  {
   "cell_type": "code",
   "execution_count": null,
   "metadata": {
    "collapsed": true
   },
   "outputs": [],
   "source": [
    "Nx = 20\n",
    "Ny = 20"
   ]
  },
  {
   "cell_type": "code",
   "execution_count": null,
   "metadata": {
    "collapsed": true
   },
   "outputs": [],
   "source": [
    "x = np.linspace(-5.,5.,num=Nx)\n",
    "y = np.linspace(-10.,10.,num=Ny)\n",
    "X,Y = np.meshgrid(x,y)"
   ]
  },
  {
   "cell_type": "code",
   "execution_count": null,
   "metadata": {
    "collapsed": true
   },
   "outputs": [],
   "source": [
    "Z = rosenbrock(X,Y) "
   ]
  },
  {
   "cell_type": "code",
   "execution_count": null,
   "metadata": {
    "collapsed": false
   },
   "outputs": [],
   "source": [
    "Z_ros = histeq(Z).reshape(Nx,Ny)"
   ]
  },
  {
   "cell_type": "markdown",
   "metadata": {
    "collapsed": true
   },
   "source": [
    "## Visuatization of the Rosenbrock function \n"
   ]
  },
  {
   "cell_type": "code",
   "execution_count": null,
   "metadata": {
    "collapsed": false
   },
   "outputs": [],
   "source": [
    "title_font = 22\n",
    "bottom_font = 16\n",
    "saturation_factor = 1.\n",
    "plt.close('all')\n",
    "plt.figure(figsize=(10,8))\n",
    "plt.contourf(X, Y, Z_ros, 50)\n",
    "plt.colorbar(pad=0.01, aspect=40, shrink=1.0)\n",
    "plt.xlabel('x', fontsize = title_font)\n",
    "plt.ylabel('y', fontsize = title_font)\n",
    "plt.annotate('Rosenbrock Function', xy = (0.05, 0.93), xycoords = 'axes fraction', fontsize=20)\n",
    "\n",
    "plt.show()\n"
   ]
  },
  {
   "cell_type": "markdown",
   "metadata": {
    "collapsed": true
   },
   "source": [
    "## Calculating the Gauss-Newton method for Rosenbrock"
   ]
  },
  {
   "cell_type": "code",
   "execution_count": null,
   "metadata": {
    "collapsed": false
   },
   "outputs": [],
   "source": [
    "itmax = 10\n",
    "\n",
    "px = []\n",
    "py = []\n",
    "\n",
    "px0 = -1.\n",
    "py0 = 7.\n",
    "\n",
    "px.append(px0)\n",
    "py.append(py0)\n",
    "\n",
    "phi = []\n",
    "it = []\n",
    "for i in range(itmax):\n",
    "    A = sensitivity_ros(px[i],py[i])\n",
    "    AtA = np.dot(A.T,A)\n",
    "    \n",
    "    res = residual_ros(px[i],py[i])\n",
    "    Atr = np.dot(A.T,res)\n",
    "    \n",
    "    dp = np.linalg.solve(AtA,-Atr)    \n",
    "    \n",
    "    px.append(px[i] + dp[0])\n",
    "    py.append(py[i] + dp[1])\n",
    "    \n",
    "    f_plus = rosenbrock(px[i+1],py[i+1])\n",
    "    phi.append(f_plus)\n",
    "    it.append(i)\n",
    "    \n",
    "    print 'iteration:', i\n",
    "    print 'p1 = %.2f | p2 = %.2f' % (px[i],py[i])\n",
    "    print 'Rosenbrock value:', f_plus\n"
   ]
  },
  {
   "cell_type": "code",
   "execution_count": null,
   "metadata": {
    "collapsed": false
   },
   "outputs": [],
   "source": [
    "title_font = 22\n",
    "bottom_font = 16\n",
    "saturation_factor = 1.\n",
    "plt.close('all')\n",
    "plt.figure(figsize=(10,8))\n",
    "plt.contourf(X, Y, Z_ros, 50)\n",
    "plt.plot(px,py,'w.-')\n",
    "plt.colorbar(pad=0.01, aspect=40, shrink=1.0)\n",
    "plt.xlabel('x', fontsize = title_font)\n",
    "plt.ylabel('y', fontsize = title_font)\n",
    "plt.annotate('Rosenbrock Function', xy = (0.05, 0.93), xycoords = 'axes fraction', fontsize=20)\n",
    "\n",
    "plt.show()"
   ]
  },
  {
   "cell_type": "markdown",
   "metadata": {},
   "source": [
    "## Comparison between these two tests"
   ]
  },
  {
   "cell_type": "code",
   "execution_count": null,
   "metadata": {
    "collapsed": false
   },
   "outputs": [],
   "source": [
    "plt.figure(figsize=(10,8))\n",
    "\n",
    "plt.plot(it, phi, 'o-')\n",
    "plt.title('Analysis of the function',fontsize=20)\n",
    "plt.ylabel('phi for Newton Method (rosenbrock)',fontsize=15)\n",
    "plt.xlabel('iteration',)\n",
    "\n",
    "plt.show()\n"
   ]
  },
  {
   "cell_type": "code",
   "execution_count": null,
   "metadata": {
    "collapsed": true
   },
   "outputs": [],
   "source": []
  }
 ],
 "metadata": {
  "kernelspec": {
   "display_name": "Python 2",
   "language": "python",
   "name": "python2"
  },
  "language_info": {
   "codemirror_mode": {
    "name": "ipython",
    "version": 2
   },
   "file_extension": ".py",
   "mimetype": "text/x-python",
   "name": "python",
   "nbconvert_exporter": "python",
   "pygments_lexer": "ipython2",
   "version": "2.7.13"
  }
 },
 "nbformat": 4,
 "nbformat_minor": 0
}
