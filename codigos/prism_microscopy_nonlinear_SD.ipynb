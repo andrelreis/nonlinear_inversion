{
 "cells": [
  {
   "cell_type": "markdown",
   "metadata": {},
   "source": [
    "# Simulation of a prism applied to a Non-linear inverse problem"
   ]
  },
  {
   "cell_type": "markdown",
   "metadata": {},
   "source": [
    "## Importing libraries"
   ]
  },
  {
   "cell_type": "code",
   "execution_count": 1,
   "metadata": {
    "collapsed": false
   },
   "outputs": [
    {
     "name": "stderr",
     "output_type": "stream",
     "text": [
      "/home/andre/anaconda2/lib/python2.7/site-packages/fatiando/vis/mpl.py:70: UserWarning: This module will be removed in v0.6. We recommend the use of matplotlib.pyplot module directly. Some of the fatiando specific functions will remain.\n",
      "  \"specific functions will remain.\")\n"
     ]
    }
   ],
   "source": [
    "%matplotlib inline\n",
    "from fatiando.gridder import regular, spacing\n",
    "from fatiando.mesher import Prism\n",
    "from fatiando.utils import ang2vec\n",
    "from fatiando.gravmag import prism\n",
    "from fatiando.constants import CM, T2NT\n",
    "import numpy as np\n",
    "import matplotlib.pyplot as plt\n",
    "from visual import histeq"
   ]
  },
  {
   "cell_type": "markdown",
   "metadata": {
    "collapsed": true
   },
   "source": [
    "## Prism parameters"
   ]
  },
  {
   "cell_type": "markdown",
   "metadata": {},
   "source": [
    "### Dimension of the prism"
   ]
  },
  {
   "cell_type": "code",
   "execution_count": 2,
   "metadata": {
    "collapsed": true
   },
   "outputs": [],
   "source": [
    "dimx = 5.  # in mm\n",
    "dimy = 5.\n",
    "dimz = 5."
   ]
  },
  {
   "cell_type": "code",
   "execution_count": 3,
   "metadata": {
    "collapsed": true
   },
   "outputs": [],
   "source": [
    "Lx = 1e-3*dimx"
   ]
  },
  {
   "cell_type": "code",
   "execution_count": 4,
   "metadata": {
    "collapsed": true
   },
   "outputs": [],
   "source": [
    "Ly = 1e-3*dimy"
   ]
  },
  {
   "cell_type": "code",
   "execution_count": 5,
   "metadata": {
    "collapsed": true
   },
   "outputs": [],
   "source": [
    "Lz = 1e-3*dimz"
   ]
  },
  {
   "cell_type": "markdown",
   "metadata": {},
   "source": [
    "### Sensor-to-sample distance"
   ]
  },
  {
   "cell_type": "code",
   "execution_count": 6,
   "metadata": {
    "collapsed": true
   },
   "outputs": [],
   "source": [
    "voo = 500.\n",
    "dist = voo*1e-6\n",
    "sts = dist + (0.5*Lz) "
   ]
  },
  {
   "cell_type": "markdown",
   "metadata": {},
   "source": [
    "## Parameters for the observation coordinate"
   ]
  },
  {
   "cell_type": "code",
   "execution_count": 7,
   "metadata": {
    "collapsed": true
   },
   "outputs": [],
   "source": [
    "Nx = 50\n",
    "Ny = 50\n",
    "shape = (Nx,Ny)"
   ]
  },
  {
   "cell_type": "code",
   "execution_count": 8,
   "metadata": {
    "collapsed": true
   },
   "outputs": [],
   "source": [
    "xmax = 1e-3*6.\n",
    "xmin = -xmax\n",
    "ymax = 1e-3*6.\n",
    "ymin = -ymax\n",
    "\n",
    "area = [xmin,xmax,ymin,ymax]"
   ]
  },
  {
   "cell_type": "code",
   "execution_count": 9,
   "metadata": {
    "collapsed": true
   },
   "outputs": [],
   "source": [
    "x,y,z = regular(area,shape, -sts)"
   ]
  },
  {
   "cell_type": "markdown",
   "metadata": {},
   "source": [
    "## Generating the sample"
   ]
  },
  {
   "cell_type": "code",
   "execution_count": 10,
   "metadata": {
    "collapsed": true
   },
   "outputs": [],
   "source": [
    "intensity = 0.1\n",
    "inclination = 90.\n",
    "declination = 0."
   ]
  },
  {
   "cell_type": "code",
   "execution_count": 11,
   "metadata": {
    "collapsed": true
   },
   "outputs": [],
   "source": [
    "mag = ang2vec(intensity,inclination,declination)"
   ]
  },
  {
   "cell_type": "code",
   "execution_count": 12,
   "metadata": {
    "collapsed": false
   },
   "outputs": [],
   "source": [
    "sample = [Prism(-0.5*Lx,0.5*Lx,-0.5*Ly,0.5*Ly,-0.5*Lz,0.5*Lz, props={'magnetization': mag})]"
   ]
  },
  {
   "cell_type": "markdown",
   "metadata": {},
   "source": [
    "## Calculating the observed data"
   ]
  },
  {
   "cell_type": "code",
   "execution_count": 13,
   "metadata": {
    "collapsed": false
   },
   "outputs": [],
   "source": [
    "Bz = prism.bz(x,y,z,sample)"
   ]
  },
  {
   "cell_type": "code",
   "execution_count": 14,
   "metadata": {
    "collapsed": false
   },
   "outputs": [
    {
     "name": "stdout",
     "output_type": "stream",
     "text": [
      "0.896 nT\n"
     ]
    }
   ],
   "source": [
    "np.random.seed(seed=40)\n",
    "\n",
    "std_noise = 0.02*np.max(np.abs(Bz))\n",
    "\n",
    "r = np.random.normal(0.0, std_noise, Nx*Ny)\n",
    "\n",
    "print '%.3f nT' % std_noise"
   ]
  },
  {
   "cell_type": "code",
   "execution_count": 15,
   "metadata": {
    "collapsed": true
   },
   "outputs": [],
   "source": [
    "Bz_obs = Bz + r"
   ]
  },
  {
   "cell_type": "markdown",
   "metadata": {},
   "source": [
    "## Calculating the predicted data"
   ]
  },
  {
   "cell_type": "code",
   "execution_count": 16,
   "metadata": {
    "collapsed": false
   },
   "outputs": [],
   "source": [
    "def pred_data(x,y,h,sample,intensity,inc,dec):\n",
    "    '''\n",
    "    Calculate the predicted data.\n",
    "    '''\n",
    "    voo = h\n",
    "    dist = voo*1e-6\n",
    "    sts = dist + (0.5*Lz) \n",
    "    z = sts*np.ones_like(x)\n",
    "    \n",
    "    m = intensity\n",
    "    jx = np.cos(np.deg2rad(inc))*np.cos(np.deg2rad(dec))\n",
    "    jy = np.cos(np.deg2rad(inc))*np.sin(np.deg2rad(dec))\n",
    "    jz = np.sin(np.deg2rad(inc))\n",
    "    bz = prism.kernelxz(x,y,z,sample[0])*jx+\\\n",
    "         prism.kernelyz(x,y,z,sample[0])*jy+\\\n",
    "         prism.kernelzz(x,y,z,sample[0])*jz\n",
    "    bz *= CM*T2NT*m\n",
    "    return  bz"
   ]
  },
  {
   "cell_type": "code",
   "execution_count": 17,
   "metadata": {
    "collapsed": false
   },
   "outputs": [],
   "source": [
    "Bz_pred = pred_data(x,y,500.,sample,intensity,inclination,declination)"
   ]
  },
  {
   "cell_type": "markdown",
   "metadata": {},
   "source": [
    "## Comparison between observed data and predicted data"
   ]
  },
  {
   "cell_type": "code",
   "execution_count": 18,
   "metadata": {
    "collapsed": false
   },
   "outputs": [
    {
     "data": {
      "image/png": "[encoded data removed]",
      "text/plain": [
       "<matplotlib.figure.Figure at 0x7f9d8cbc4550>"
      ]
     },
     "metadata": {},
     "output_type": "display_data"
    }
   ],
   "source": [
    "title_font = 22\n",
    "bottom_font = 16\n",
    "saturation_factor = 1.\n",
    "plt.close('all')\n",
    "plt.figure(figsize=(20,8))\n",
    "\n",
    "plt.subplot(1,2,1)\n",
    "ranges = saturation_factor*np.abs([Bz_obs.max(), Bz_obs.min()]).max()\n",
    "\n",
    "plt.contourf(y.reshape(shape), x.reshape(shape), Bz_obs.reshape(shape),30, cmap=plt.cm.RdBu_r, vmin=-ranges, vmax=ranges)\n",
    "plt.colorbar(pad=0.01, aspect=40, shrink=1.0).set_label('nT')\n",
    "plt.xlabel('y (m)', fontsize = title_font)\n",
    "plt.ylabel('x (m)', fontsize = title_font)\n",
    "plt.annotate('$\\mathbf{B}_z$ (observed)', xy = (0.05, 0.93), \n",
    "             xycoords = 'axes fraction', fontsize=24)\n",
    "\n",
    "plt.subplot(1,2,2)\n",
    "ranges = saturation_factor*np.abs([Bz_pred.max(), Bz_pred.min()]).max()\n",
    "\n",
    "plt.contourf(y.reshape(shape), x.reshape(shape), Bz_pred.reshape(shape), 30, cmap=plt.cm.RdBu_r, vmin=-ranges, vmax=ranges)\n",
    "plt.colorbar(pad=0.01, aspect=40, shrink=1.0).set_label('nT')\n",
    "plt.xlabel('y (m)', fontsize = title_font)\n",
    "plt.ylabel('x (m)', fontsize = title_font)\n",
    "plt.annotate('$\\mathbf{B}_z$ (my function)', xy = (0.05, 0.93), xycoords = 'axes fraction', fontsize=24)\n",
    "\n",
    "plt.show()\n"
   ]
  },
  {
   "cell_type": "markdown",
   "metadata": {},
   "source": [
    "## Visualization of the data misfit"
   ]
  },
  {
   "cell_type": "code",
   "execution_count": 19,
   "metadata": {
    "collapsed": true
   },
   "outputs": [],
   "source": [
    "Nm = 20\n",
    "m_range = np.linspace(0.001,1.,num=Nm)"
   ]
  },
  {
   "cell_type": "code",
   "execution_count": 20,
   "metadata": {
    "collapsed": true
   },
   "outputs": [],
   "source": [
    "Nh = 20\n",
    "h_range = np.linspace(10.,1000.,num=Nh)"
   ]
  },
  {
   "cell_type": "code",
   "execution_count": 21,
   "metadata": {
    "collapsed": true
   },
   "outputs": [],
   "source": [
    "m_range,h_range = np.meshgrid(m_range,h_range)"
   ]
  },
  {
   "cell_type": "code",
   "execution_count": 22,
   "metadata": {
    "collapsed": true
   },
   "outputs": [],
   "source": [
    "shape_phi = (Nm,Nh)"
   ]
  },
  {
   "cell_type": "code",
   "execution_count": 23,
   "metadata": {
    "collapsed": false
   },
   "outputs": [],
   "source": [
    "misfit = []\n",
    "for mi,hi in zip (m_range.ravel(),h_range.ravel()):\n",
    "    dist = hi*1e-6\n",
    "    h = dist + (0.5*Lz) \n",
    "    x0,y0,_ = regular(area,shape, -h)\n",
    "    Bz_pred_it = pred_data(x0,y0,hi,sample,mi,inclination,declination)\n",
    "    res = Bz_obs - Bz_pred_it \n",
    "    misfit.append(np.linalg.norm(res))"
   ]
  },
  {
   "cell_type": "code",
   "execution_count": 24,
   "metadata": {
    "collapsed": false
   },
   "outputs": [
    {
     "data": {
      "image/png": "[encoded data removed]",
      "text/plain": [
       "<matplotlib.figure.Figure at 0x7f9d8cba8b90>"
      ]
     },
     "metadata": {},
     "output_type": "display_data"
    }
   ],
   "source": [
    "title_font = 22\n",
    "bottom_font = 16\n",
    "saturation_factor = 1.\n",
    "plt.close('all')\n",
    "plt.figure(figsize=(10,8))\n",
    "plt.contourf(m_range, h_range, np.array(misfit).reshape(shape_phi), 50)\n",
    "plt.plot(intensity,voo,'wo',markersize=8)\n",
    "plt.colorbar(pad=0.01, aspect=40, shrink=1.0)\n",
    "plt.xlabel('intensity', fontsize = title_font)\n",
    "plt.ylabel('sensor-to-sample distance', fontsize = title_font)\n",
    "plt.annotate('Data misfit', xy = (0.05, 0.93), xycoords = 'axes fraction', fontsize=20)\n",
    "\n",
    "plt.show()"
   ]
  },
  {
   "cell_type": "markdown",
   "metadata": {},
   "source": [
    "## Calculating the Sensitivity matrix "
   ]
  },
  {
   "cell_type": "code",
   "execution_count": 25,
   "metadata": {
    "collapsed": true
   },
   "outputs": [],
   "source": [
    "def sensitivity(x,y,h,sample,intensity,inc,dec):\n",
    "    '''\n",
    "    Calculating the sensitivity matrix numerically.\n",
    "    '''\n",
    "    voo = h\n",
    "    dist = voo*1e-6\n",
    "    sts = dist + (0.5*Lz) \n",
    "    h1 = .001*sts\n",
    "    h2 = .001*intensity\n",
    "    N = len(x)\n",
    "    z = sts*np.ones_like(x)\n",
    "    \n",
    "    A = np.empty([N,2])\n",
    "    A[:,0] = (pred_data(x,y,z+h1,sample,intensity,inc,dec) - pred_data(x,y,z-h1,sample,intensity,inc,dec))/(2.*h1)\n",
    "    A[:,1] = (pred_data(x,y,z,sample,intensity+h2,inc,dec) - pred_data(x,y,z,sample,intensity-h2,inc,dec))/(2.*h2)\n",
    "    return A"
   ]
  },
  {
   "cell_type": "markdown",
   "metadata": {},
   "source": [
    "## Performing the Steepest Descent method "
   ]
  },
  {
   "cell_type": "code",
   "execution_count": 26,
   "metadata": {
    "collapsed": false
   },
   "outputs": [
    {
     "name": "stdout",
     "output_type": "stream",
     "text": [
      "iteration: 0\n",
      "p1 = 200.00 | p2 = 0.90\n",
      "Rosenbrock value: 7762.30536227\n",
      "iteration: 1\n",
      "p1 = 200.00 | p2 = 0.05\n",
      "Rosenbrock value: 337.073286294\n",
      "iteration: 2\n",
      "p1 = 200.00 | p2 = 0.08\n",
      "Rosenbrock value: 123.844771565\n",
      "iteration: 3\n",
      "p1 = 200.00 | p2 = 0.08\n",
      "Rosenbrock value: 123.844771565\n",
      "iteration: 4\n",
      "p1 = 200.00 | p2 = 0.08\n",
      "Rosenbrock value: 123.844771565\n",
      "iteration: 5\n",
      "p1 = 200.00 | p2 = 0.08\n",
      "Rosenbrock value: 123.844771565\n",
      "iteration: 6\n",
      "p1 = 200.00 | p2 = 0.08\n",
      "Rosenbrock value: 123.844771565\n",
      "iteration: 7\n",
      "p1 = 200.00 | p2 = 0.08\n",
      "Rosenbrock value: 123.844771565\n",
      "iteration: 8\n",
      "p1 = 200.00 | p2 = 0.08\n",
      "Rosenbrock value: 123.844771565\n",
      "iteration: 9\n",
      "p1 = 200.00 | p2 = 0.08\n",
      "Rosenbrock value: 123.844771565\n",
      "iteration: 10\n",
      "p1 = 200.00 | p2 = 0.08\n",
      "Rosenbrock value: 123.844771565\n",
      "iteration: 11\n",
      "p1 = 200.00 | p2 = 0.08\n",
      "Rosenbrock value: 123.844771565\n",
      "iteration: 12\n",
      "p1 = 200.00 | p2 = 0.08\n",
      "Rosenbrock value: 123.844771565\n",
      "iteration: 13\n",
      "p1 = 200.00 | p2 = 0.08\n",
      "Rosenbrock value: 123.844771565\n",
      "iteration: 14\n",
      "p1 = 200.00 | p2 = 0.08\n",
      "Rosenbrock value: 123.844771565\n",
      "iteration: 15\n",
      "p1 = 200.00 | p2 = 0.08\n",
      "Rosenbrock value: 123.844771565\n",
      "iteration: 16\n",
      "p1 = 200.00 | p2 = 0.08\n",
      "Rosenbrock value: 123.844771565\n",
      "iteration: 17\n",
      "p1 = 200.00 | p2 = 0.08\n",
      "Rosenbrock value: 123.844771565\n",
      "iteration: 18\n",
      "p1 = 200.00 | p2 = 0.08\n",
      "Rosenbrock value: 123.844771565\n",
      "iteration: 19\n",
      "p1 = 200.00 | p2 = 0.08\n",
      "Rosenbrock value: 123.844771565\n",
      "iteration: 20\n",
      "p1 = 200.00 | p2 = 0.08\n",
      "Rosenbrock value: 123.844771565\n",
      "iteration: 21\n",
      "p1 = 200.00 | p2 = 0.08\n",
      "Rosenbrock value: 123.844771565\n",
      "iteration: 22\n",
      "p1 = 200.00 | p2 = 0.08\n",
      "Rosenbrock value: 123.844771565\n",
      "iteration: 23\n",
      "p1 = 200.00 | p2 = 0.08\n",
      "Rosenbrock value: 123.844771565\n",
      "iteration: 24\n",
      "p1 = 200.00 | p2 = 0.08\n",
      "Rosenbrock value: 123.844771565\n",
      "iteration: 25\n",
      "p1 = 200.00 | p2 = 0.08\n",
      "Rosenbrock value: 123.844771565\n",
      "iteration: 26\n",
      "p1 = 200.00 | p2 = 0.08\n",
      "Rosenbrock value: 123.844771565\n",
      "iteration: 27\n",
      "p1 = 200.00 | p2 = 0.08\n",
      "Rosenbrock value: 123.844771565\n",
      "iteration: 28\n",
      "p1 = 200.00 | p2 = 0.08\n",
      "Rosenbrock value: 123.844771565\n",
      "iteration: 29\n",
      "p1 = 200.00 | p2 = 0.08\n",
      "Rosenbrock value: 123.844771565\n",
      "iteration: 30\n",
      "p1 = 200.00 | p2 = 0.08\n",
      "Rosenbrock value: 123.844771565\n",
      "iteration: 31\n",
      "p1 = 200.00 | p2 = 0.08\n",
      "Rosenbrock value: 123.844771565\n",
      "iteration: 32\n",
      "p1 = 200.00 | p2 = 0.08\n",
      "Rosenbrock value: 123.844771565\n",
      "iteration: 33\n",
      "p1 = 200.00 | p2 = 0.08\n",
      "Rosenbrock value: 123.844771565\n",
      "iteration: 34\n",
      "p1 = 200.00 | p2 = 0.08\n",
      "Rosenbrock value: 123.844771565\n",
      "iteration: 35\n",
      "p1 = 200.00 | p2 = 0.08\n",
      "Rosenbrock value: 123.844771565\n",
      "iteration: 36\n",
      "p1 = 200.00 | p2 = 0.08\n",
      "Rosenbrock value: 123.844771565\n",
      "iteration: 37\n",
      "p1 = 200.00 | p2 = 0.08\n",
      "Rosenbrock value: 123.844771565\n",
      "iteration: 38\n",
      "p1 = 200.00 | p2 = 0.08\n",
      "Rosenbrock value: 123.844771565\n",
      "iteration: 39\n",
      "p1 = 200.00 | p2 = 0.08\n",
      "Rosenbrock value: 123.844771565\n",
      "iteration: 40\n",
      "p1 = 200.00 | p2 = 0.08\n",
      "Rosenbrock value: 123.844771565\n",
      "iteration: 41\n",
      "p1 = 200.00 | p2 = 0.08\n",
      "Rosenbrock value: 123.844771565\n",
      "iteration: 42\n",
      "p1 = 200.00 | p2 = 0.08\n",
      "Rosenbrock value: 123.844771565\n",
      "iteration: 43\n",
      "p1 = 200.00 | p2 = 0.08\n",
      "Rosenbrock value: 123.844771565\n",
      "iteration: 44\n",
      "p1 = 200.00 | p2 = 0.08\n",
      "Rosenbrock value: 123.844771565\n",
      "iteration: 45\n",
      "p1 = 200.00 | p2 = 0.08\n",
      "Rosenbrock value: 123.844771565\n",
      "iteration: 46\n",
      "p1 = 200.00 | p2 = 0.08\n",
      "Rosenbrock value: 123.844771565\n",
      "iteration: 47\n",
      "p1 = 200.00 | p2 = 0.08\n",
      "Rosenbrock value: 123.844771565\n",
      "iteration: 48\n",
      "p1 = 200.00 | p2 = 0.08\n",
      "Rosenbrock value: 123.844771565\n",
      "iteration: 49\n",
      "p1 = 200.00 | p2 = 0.08\n",
      "Rosenbrock value: 123.844771565\n",
      "iteration: 50\n",
      "p1 = 200.00 | p2 = 0.08\n",
      "Rosenbrock value: 123.844771565\n",
      "iteration: 51\n",
      "p1 = 200.00 | p2 = 0.08\n",
      "Rosenbrock value: 123.844771565\n",
      "iteration: 52\n",
      "p1 = 200.00 | p2 = 0.08\n",
      "Rosenbrock value: 123.844771565\n",
      "iteration: 53\n",
      "p1 = 200.00 | p2 = 0.08\n",
      "Rosenbrock value: 123.844771565\n",
      "iteration: 54\n",
      "p1 = 200.00 | p2 = 0.08\n",
      "Rosenbrock value: 123.844771565\n",
      "iteration: 55\n",
      "p1 = 200.00 | p2 = 0.08\n",
      "Rosenbrock value: 123.844771565\n",
      "iteration: 56\n",
      "p1 = 200.00 | p2 = 0.08\n",
      "Rosenbrock value: 123.844771565\n",
      "iteration: 57\n",
      "p1 = 200.00 | p2 = 0.08\n",
      "Rosenbrock value: 123.844771565\n",
      "iteration: 58\n",
      "p1 = 200.00 | p2 = 0.08\n",
      "Rosenbrock value: 123.844771565\n",
      "iteration: 59\n",
      "p1 = 200.00 | p2 = 0.08\n",
      "Rosenbrock value: 123.844771565\n",
      "iteration: 60\n",
      "p1 = 200.00 | p2 = 0.08\n",
      "Rosenbrock value: 123.844771565\n",
      "iteration: 61\n",
      "p1 = 200.00 | p2 = 0.08\n",
      "Rosenbrock value: 123.844771565\n",
      "iteration: 62\n",
      "p1 = 200.00 | p2 = 0.08\n",
      "Rosenbrock value: 123.844771565\n",
      "iteration: 63\n",
      "p1 = 200.00 | p2 = 0.08\n",
      "Rosenbrock value: 123.844771565\n",
      "iteration: 64\n",
      "p1 = 200.00 | p2 = 0.08\n",
      "Rosenbrock value: 123.844771565\n",
      "iteration: 65\n",
      "p1 = 200.00 | p2 = 0.08\n",
      "Rosenbrock value: 123.844771565\n",
      "iteration: 66\n",
      "p1 = 200.00 | p2 = 0.08\n",
      "Rosenbrock value: 123.844771565\n",
      "iteration: 67\n",
      "p1 = 200.00 | p2 = 0.08\n",
      "Rosenbrock value: 123.844771565\n",
      "iteration: 68\n",
      "p1 = 200.00 | p2 = 0.08\n",
      "Rosenbrock value: 123.844771565\n",
      "iteration: 69\n",
      "p1 = 200.00 | p2 = 0.08\n",
      "Rosenbrock value: 123.844771565\n",
      "iteration: 70\n",
      "p1 = 200.00 | p2 = 0.08\n",
      "Rosenbrock value: 123.844771565\n",
      "iteration: 71\n",
      "p1 = 200.00 | p2 = 0.08\n",
      "Rosenbrock value: 123.844771565\n",
      "iteration: 72\n",
      "p1 = 200.00 | p2 = 0.08\n",
      "Rosenbrock value: 123.844771565\n",
      "iteration: 73\n",
      "p1 = 200.00 | p2 = 0.08\n",
      "Rosenbrock value: 123.844771565\n",
      "iteration: 74\n",
      "p1 = 200.00 | p2 = 0.08\n",
      "Rosenbrock value: 123.844771565\n",
      "iteration: 75\n",
      "p1 = 200.00 | p2 = 0.08\n",
      "Rosenbrock value: 123.844771565\n",
      "iteration: 76\n",
      "p1 = 200.00 | p2 = 0.08\n",
      "Rosenbrock value: 123.844771565\n",
      "iteration: 77\n",
      "p1 = 200.00 | p2 = 0.08\n",
      "Rosenbrock value: 123.844771565\n",
      "iteration: 78\n",
      "p1 = 200.00 | p2 = 0.08\n",
      "Rosenbrock value: 123.844771565\n",
      "iteration: 79\n",
      "p1 = 200.00 | p2 = 0.08\n",
      "Rosenbrock value: 123.844771565\n",
      "iteration: 80\n",
      "p1 = 200.00 | p2 = 0.08\n",
      "Rosenbrock value: 123.844771565\n",
      "iteration: 81\n",
      "p1 = 200.00 | p2 = 0.08\n",
      "Rosenbrock value: 123.844771565\n",
      "iteration: 82\n",
      "p1 = 200.00 | p2 = 0.08\n",
      "Rosenbrock value: 123.844771565\n",
      "iteration: 83\n",
      "p1 = 200.00 | p2 = 0.08\n",
      "Rosenbrock value: 123.844771565\n",
      "iteration: 84\n",
      "p1 = 200.00 | p2 = 0.08\n",
      "Rosenbrock value: 123.844771565\n",
      "iteration: 85\n",
      "p1 = 200.00 | p2 = 0.08\n",
      "Rosenbrock value: 123.844771565\n",
      "iteration: 86\n",
      "p1 = 200.00 | p2 = 0.08\n",
      "Rosenbrock value: 123.844771565\n",
      "iteration: 87\n",
      "p1 = 200.00 | p2 = 0.08\n",
      "Rosenbrock value: 123.844771565\n",
      "iteration: 88\n",
      "p1 = 200.00 | p2 = 0.08\n",
      "Rosenbrock value: 123.844771565\n",
      "iteration: 89\n",
      "p1 = 200.00 | p2 = 0.08\n",
      "Rosenbrock value: 123.844771565\n",
      "iteration: 90\n",
      "p1 = 200.00 | p2 = 0.08\n",
      "Rosenbrock value: 123.844771565\n",
      "iteration: 91\n",
      "p1 = 200.00 | p2 = 0.08\n",
      "Rosenbrock value: 123.844771565\n",
      "iteration: 92\n",
      "p1 = 200.00 | p2 = 0.08\n",
      "Rosenbrock value: 123.844771565\n",
      "iteration: 93\n",
      "p1 = 200.00 | p2 = 0.08\n",
      "Rosenbrock value: 123.844771565\n",
      "iteration: 94\n",
      "p1 = 200.00 | p2 = 0.08\n",
      "Rosenbrock value: 123.844771565\n",
      "iteration: 95\n",
      "p1 = 200.00 | p2 = 0.08\n",
      "Rosenbrock value: 123.844771565\n",
      "iteration: 96\n",
      "p1 = 200.00 | p2 = 0.08\n",
      "Rosenbrock value: 123.844771565\n",
      "iteration: 97\n",
      "p1 = 200.00 | p2 = 0.08\n",
      "Rosenbrock value: 123.844771565\n",
      "iteration: 98\n",
      "p1 = 200.00 | p2 = 0.08\n",
      "Rosenbrock value: 123.844771565\n",
      "iteration: 99\n",
      "p1 = 200.00 | p2 = 0.08\n",
      "Rosenbrock value: 123.844771565\n"
     ]
    }
   ],
   "source": [
    "alpha = 1e-4\n",
    "beta =  0.1\n",
    "itmax = 100\n",
    "\n",
    "d_sts = []\n",
    "mag_int = []\n",
    "\n",
    "d_sts0 = 200.\n",
    "mag_int0 = 0.9\n",
    "\n",
    "d_sts.append(d_sts0)\n",
    "mag_int.append(mag_int0)\n",
    "\n",
    "phi = []\n",
    "it  = []\n",
    "for i in range(itmax):\n",
    "    m = 0\n",
    "    lamb = .2\n",
    "    \n",
    "    res = Bz_obs - pred_data(x,y,d_sts[i],sample,mag_int[i],inclination,declination)\n",
    "    G = sensitivity(x,y,d_sts[i],sample,mag_int[i],inclination,declination)\n",
    "    grad = - np.dot(G.T,res)\n",
    "    mod = np.linalg.norm(grad)\n",
    "    \n",
    "    d_sts.append(d_sts[i] - lamb*grad[0])\n",
    "    mag_int.append(mag_int[i] - lamb*grad[1])\n",
    "    \n",
    "    phi_i = np.linalg.norm(Bz_obs - pred_data(x,y,d_sts[i],sample,mag_int[i],inclination,declination))\n",
    "    \n",
    "    phi_plus = np.linalg.norm(Bz_obs - pred_data(x,y,d_sts[i+1],sample,mag_int[i+1],inclination,declination))\n",
    "    \n",
    "    phi.append(np.linalg.norm(res))\n",
    "    it.append(i)\n",
    "    \n",
    "    print 'iteration:', i\n",
    "    print 'p1 = %.2f | p2 = %.2f' % (d_sts[i],mag_int[i])\n",
    "    print 'Rosenbrock value:', phi_i\n",
    "    \n",
    "    while ((phi_plus - phi_i) > (alpha*lamb*mod)):\n",
    "        m += 1\n",
    "        lamb = beta**m\n",
    "        \n",
    "        d_sts[i+1] = d_sts[i] - lamb*grad[0]\n",
    "        mag_int[i+1] = mag_int[i] - lamb*grad[1]\n",
    "        \n",
    "        phi_plus = np.linalg.norm(Bz_obs - pred_data(x,y,d_sts[i+1],sample,mag_int[i+1],inclination,declination))"
   ]
  },
  {
   "cell_type": "code",
   "execution_count": 32,
   "metadata": {
    "collapsed": false
   },
   "outputs": [
    {
     "data": {
      "image/png": "[encoded data removed]",
      "text/plain": [
       "<matplotlib.figure.Figure at 0x7f9d8a605050>"
      ]
     },
     "metadata": {},
     "output_type": "display_data"
    }
   ],
   "source": [
    "title_font = 22\n",
    "bottom_font = 16\n",
    "saturation_factor = 1.\n",
    "plt.close('all')\n",
    "plt.figure(figsize=(10,8))\n",
    "plt.contourf(m_range, h_range, np.array(misfit).reshape(shape_phi), 50)\n",
    "plt.plot(intensity,voo,'w*',markersize=15)\n",
    "plt.plot(mag_int,d_sts,'w.-')\n",
    "plt.colorbar(pad=0.01, aspect=40, shrink=1.0)\n",
    "plt.xlabel('intensity', fontsize = title_font)\n",
    "plt.ylabel('sensor-to-sample distance', fontsize = title_font)\n",
    "plt.annotate('Data misfit', xy = (0.05, 0.93), xycoords = 'axes fraction', fontsize=20)\n",
    "\n",
    "plt.show()"
   ]
  },
  {
   "cell_type": "code",
   "execution_count": null,
   "metadata": {
    "collapsed": true
   },
   "outputs": [],
   "source": []
  }
 ],
 "metadata": {
  "kernelspec": {
   "display_name": "Python [Root]",
   "language": "python",
   "name": "Python [Root]"
  },
  "language_info": {
   "codemirror_mode": {
    "name": "ipython",
    "version": 2
   },
   "file_extension": ".py",
   "mimetype": "text/x-python",
   "name": "python",
   "nbconvert_exporter": "python",
   "pygments_lexer": "ipython2",
   "version": "2.7.12"
  }
 },
 "nbformat": 4,
 "nbformat_minor": 0
}
