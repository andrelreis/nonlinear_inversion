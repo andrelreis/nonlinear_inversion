{
 "cells": [
  {
   "cell_type": "code",
   "execution_count": 1,
   "metadata": {
    "collapsed": true
   },
   "outputs": [],
   "source": [
    "%matplotlib inline"
   ]
  },
  {
   "cell_type": "markdown",
   "metadata": {},
   "source": [
    "# How create a map f(p1,p2)"
   ]
  },
  {
   "cell_type": "code",
   "execution_count": 2,
   "metadata": {
    "collapsed": false
   },
   "outputs": [],
   "source": [
    "import numpy as np\n",
    "import matplotlib.pyplot as plt\n",
    "import matplotlib.mlab as mlab\n",
    "\n"
   ]
  },
  {
   "cell_type": "code",
   "execution_count": 3,
   "metadata": {
    "collapsed": false
   },
   "outputs": [
    {
     "name": "stdout",
     "output_type": "stream",
     "text": [
      "[0 1 2 3 4 5]\n",
      "Number of coordinates in x-axis: \n",
      "2\n",
      "p1 (the coordinates in x-axis): \n",
      "[[-10.  10.]\n",
      " [-10.  10.]\n",
      " [-10.  10.]]\n",
      "Number of coordinates in y-axis: \n",
      "3\n",
      "p2 (the coordinates in y-axis):  \n",
      "[[   0.    0.]\n",
      " [  50.   50.]\n",
      " [ 100.  100.]]\n",
      "2 3\n",
      "f(p1,p2) \n",
      "[[0 1]\n",
      " [2 3]\n",
      " [4 5]]\n"
     ]
    },
    {
     "data": {
      "image/png": "[encoded data removed]",
      "text/plain": [
       "<matplotlib.figure.Figure at 0x4527710>"
      ]
     },
     "metadata": {},
     "output_type": "display_data"
    }
   ],
   "source": [
    "#  Exemple of How create a function 3D f(p1,p2) \n",
    "\n",
    "f = np.arange(6)\n",
    "print f\n",
    "\n",
    "N_p1 = 2\n",
    "N_p2 = 3\n",
    "\n",
    "p1, p2 = np.meshgrid(np.linspace(-10.0, 10.0, N_p1),np.linspace(0.0, 100., N_p2))\n",
    "\n",
    "print 'Number of coordinates in x-axis: \\n', N_p1 \n",
    "print 'p1 (the coordinates in x-axis): \\n',  p1\n",
    "\n",
    "print \"Number of coordinates in y-axis: \\n\", N_p2\n",
    "print 'p2 (the coordinates in y-axis):  \\n',  p2\n",
    "\n",
    "print N_p1, N_p2\n",
    "\n",
    "f_plot = f.reshape(N_p2,N_p1)\n",
    "print 'f(p1,p2) \\n', f_plot\n",
    "\n",
    "\n",
    "fig1 = plt.figure(figsize=(5,8))\n",
    "plt.contourf(p1,p2,f_plot,5)\n",
    "plt.colorbar()\n",
    "# Add some text to the plot\n",
    "plt.title(' F(p1,p2)')\n",
    "plt.xlabel('P1')\n",
    "plt.ylabel('P2')\n",
    "plt.show()"
   ]
  },
  {
   "cell_type": "code",
   "execution_count": null,
   "metadata": {
    "collapsed": true
   },
   "outputs": [],
   "source": []
  }
 ],
 "metadata": {
  "anaconda-cloud": {},
  "kernelspec": {
   "display_name": "Python 2",
   "language": "python",
   "name": "python2"
  },
  "language_info": {
   "codemirror_mode": {
    "name": "ipython",
    "version": 2
   },
   "file_extension": ".py",
   "mimetype": "text/x-python",
   "name": "python",
   "nbconvert_exporter": "python",
   "pygments_lexer": "ipython2",
   "version": "2.7.13"
  }
 },
 "nbformat": 4,
 "nbformat_minor": 0
}
