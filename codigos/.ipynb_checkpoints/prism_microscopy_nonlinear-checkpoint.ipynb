{
 "cells": [
  {
   "cell_type": "markdown",
   "metadata": {},
   "source": [
    "# Simulation of a prism applied to a Non-linear inverse problem"
   ]
  },
  {
   "cell_type": "markdown",
   "metadata": {},
   "source": [
    "## Importing libraries"
   ]
  },
  {
   "cell_type": "code",
   "execution_count": 1,
   "metadata": {
    "collapsed": false
   },
   "outputs": [
    {
     "ename": "ImportError",
     "evalue": "cannot import name CM",
     "output_type": "error",
     "traceback": [
      "\u001b[1;31m---------------------------------------------------------------------------\u001b[0m",
      "\u001b[1;31mImportError\u001b[0m                               Traceback (most recent call last)",
      "\u001b[1;32m<ipython-input-1-1bde55e369b5>\u001b[0m in \u001b[0;36m<module>\u001b[1;34m()\u001b[0m\n\u001b[0;32m      2\u001b[0m \u001b[1;32mfrom\u001b[0m \u001b[0mfatiando\u001b[0m\u001b[1;33m.\u001b[0m\u001b[0mgridder\u001b[0m \u001b[1;32mimport\u001b[0m \u001b[0mregular\u001b[0m\u001b[1;33m,\u001b[0m \u001b[0mspacing\u001b[0m\u001b[1;33m\u001b[0m\u001b[0m\n\u001b[0;32m      3\u001b[0m \u001b[1;32mfrom\u001b[0m \u001b[0mfatiando\u001b[0m\u001b[1;33m.\u001b[0m\u001b[0mmesher\u001b[0m \u001b[1;32mimport\u001b[0m \u001b[0mPrism\u001b[0m\u001b[1;33m\u001b[0m\u001b[0m\n\u001b[1;32m----> 4\u001b[1;33m \u001b[1;32mfrom\u001b[0m \u001b[0mfatiando\u001b[0m\u001b[1;33m.\u001b[0m\u001b[0mutils\u001b[0m \u001b[1;32mimport\u001b[0m \u001b[0mang2vec\u001b[0m\u001b[1;33m,\u001b[0m \u001b[0mcontaminate\u001b[0m\u001b[1;33m,\u001b[0m\u001b[0mCM\u001b[0m\u001b[1;33m,\u001b[0m\u001b[0mT2NT\u001b[0m\u001b[1;33m\u001b[0m\u001b[0m\n\u001b[0m\u001b[0;32m      5\u001b[0m \u001b[1;32mfrom\u001b[0m \u001b[0mfatiando\u001b[0m\u001b[1;33m.\u001b[0m\u001b[0mgravmag\u001b[0m \u001b[1;32mimport\u001b[0m \u001b[0mprism\u001b[0m\u001b[1;33m\u001b[0m\u001b[0m\n\u001b[0;32m      6\u001b[0m \u001b[1;32mimport\u001b[0m \u001b[0mnumpy\u001b[0m \u001b[1;32mas\u001b[0m \u001b[0mnp\u001b[0m\u001b[1;33m\u001b[0m\u001b[0m\n",
      "\u001b[1;31mImportError\u001b[0m: cannot import name CM"
     ]
    }
   ],
   "source": [
    "%matplotlib inline\n",
    "from fatiando.gridder import regular, spacing\n",
    "from fatiando.mesher import Prism\n",
    "from fatiando.utils import ang2vec\n",
    "from fatiando.gravmag import prism\n",
    "from fatiando.constants import CM, T2NT\n",
    "import numpy as np\n",
    "import matplotlib.pyplot as plt\n",
    "from visual import histeq"
   ]
  },
  {
   "cell_type": "markdown",
   "metadata": {
    "collapsed": true
   },
   "source": [
    "## Prism parameters"
   ]
  },
  {
   "cell_type": "markdown",
   "metadata": {},
   "source": [
    "### Dimension of the prism"
   ]
  },
  {
   "cell_type": "code",
   "execution_count": null,
   "metadata": {
    "collapsed": true
   },
   "outputs": [],
   "source": [
    "dimx = 5.  # in mm\n",
    "dimy = 5.\n",
    "dimz = 5."
   ]
  },
  {
   "cell_type": "code",
   "execution_count": null,
   "metadata": {
    "collapsed": true
   },
   "outputs": [],
   "source": [
    "Lx = 1e-3*dimx"
   ]
  },
  {
   "cell_type": "code",
   "execution_count": null,
   "metadata": {
    "collapsed": true
   },
   "outputs": [],
   "source": [
    "Ly = 1e-3*dimy"
   ]
  },
  {
   "cell_type": "code",
   "execution_count": null,
   "metadata": {
    "collapsed": true
   },
   "outputs": [],
   "source": [
    "Lz = 1e-3*dimz"
   ]
  },
  {
   "cell_type": "markdown",
   "metadata": {},
   "source": [
    "### Sensor-to-sample distance"
   ]
  },
  {
   "cell_type": "code",
   "execution_count": null,
   "metadata": {
    "collapsed": true
   },
   "outputs": [],
   "source": [
    "voo = 500.\n",
    "dist = voo*1e-6\n",
    "size = 1e-3*Lz\n",
    "h = dist + (0.5*size) "
   ]
  },
  {
   "cell_type": "markdown",
   "metadata": {},
   "source": [
    "## Parameters for the observation coordinate"
   ]
  },
  {
   "cell_type": "code",
   "execution_count": null,
   "metadata": {
    "collapsed": true
   },
   "outputs": [],
   "source": [
    "Nx = 50\n",
    "Ny = 50\n",
    "shape = (Nx,Ny)"
   ]
  },
  {
   "cell_type": "code",
   "execution_count": null,
   "metadata": {
    "collapsed": true
   },
   "outputs": [],
   "source": [
    "xmax = 1e-3*6.\n",
    "xmin = -xmax\n",
    "ymax = 1e-3*6.\n",
    "ymin = -ymax\n",
    "\n",
    "area = [xmin,xmax,ymin,ymax]"
   ]
  },
  {
   "cell_type": "code",
   "execution_count": null,
   "metadata": {
    "collapsed": true
   },
   "outputs": [],
   "source": [
    "x,y,z = regular(area,shape, -h)"
   ]
  },
  {
   "cell_type": "markdown",
   "metadata": {},
   "source": [
    "## Generating the sample"
   ]
  },
  {
   "cell_type": "code",
   "execution_count": null,
   "metadata": {
    "collapsed": true
   },
   "outputs": [],
   "source": [
    "intensity = 0.1\n",
    "inclination = 90.\n",
    "declination = 0."
   ]
  },
  {
   "cell_type": "code",
   "execution_count": null,
   "metadata": {
    "collapsed": true
   },
   "outputs": [],
   "source": [
    "mag = ang2vec(intensity,inclination,declination)"
   ]
  },
  {
   "cell_type": "code",
   "execution_count": null,
   "metadata": {
    "collapsed": false
   },
   "outputs": [],
   "source": [
    "sample = [Prism(- 0.5*Lx, 0.5*Lx,- 0.5*Ly,0.5*Ly,-0.5*Lz,0.5*Lz, props={'magnetization': mag})]"
   ]
  },
  {
   "cell_type": "markdown",
   "metadata": {},
   "source": [
    "## Calculating the observed data"
   ]
  },
  {
   "cell_type": "code",
   "execution_count": null,
   "metadata": {
    "collapsed": false
   },
   "outputs": [],
   "source": [
    "Bz = prism.bz(x,y,z,sample)"
   ]
  },
  {
   "cell_type": "code",
   "execution_count": null,
   "metadata": {
    "collapsed": false
   },
   "outputs": [],
   "source": [
    "np.random.seed(seed=40)\n",
    "\n",
    "std_noise = 0.00000001*np.max(np.abs(Bz))\n",
    "#std_noise = 0.05 # in nT\n",
    "\n",
    "r = np.random.normal(0.0, std_noise, Nx*Ny)\n",
    "\n",
    "print '%.3f nT' % std_noise"
   ]
  },
  {
   "cell_type": "code",
   "execution_count": null,
   "metadata": {
    "collapsed": true
   },
   "outputs": [],
   "source": [
    "Bz_obs = Bz + r"
   ]
  },
  {
   "cell_type": "markdown",
   "metadata": {},
   "source": [
    "## Calculating the predicted data"
   ]
  },
  {
   "cell_type": "code",
   "execution_count": null,
   "metadata": {
    "collapsed": true
   },
   "outputs": [],
   "source": [
    "def pred_data(x,y,z,sample,intensity,inc,dec):\n",
    "    '''\n",
    "    Calculate the predicted data.\n",
    "    '''\n",
    "    m = intensity\n",
    "    jx = np.cos(np.deg2rad(inc))*np.cos(np.deg2rad(dec))\n",
    "    jy = np.cos(np.deg2rad(inc))*np.sin(np.deg2rad(dec))\n",
    "    jz = np.sin(np.deg2rad(inc))\n",
    "    bz = [(kernelxz(x,y,z,sample)*jx)+\\\n",
    "          (kernelyz(x,y,z,sample)*jy)+\\\n",
    "          (kernelzz(x,y,z,sample)*jz)]*m\n",
    "    bz *= CM*T2NT\n",
    "    return"
   ]
  },
  {
   "cell_type": "code",
   "execution_count": null,
   "metadata": {
    "collapsed": true
   },
   "outputs": [],
   "source": [
    "ççççççççççççççççççççççççççççç"
   ]
  },
  {
   "cell_type": "markdown",
   "metadata": {
    "collapsed": true
   },
   "source": [
    "## Visuatization of the Rosenbrock function \n"
   ]
  },
  {
   "cell_type": "code",
   "execution_count": null,
   "metadata": {
    "collapsed": false
   },
   "outputs": [],
   "source": [
    "title_font = 22\n",
    "bottom_font = 16\n",
    "saturation_factor = 1.\n",
    "plt.close('all')\n",
    "plt.figure(figsize=(10,8))\n",
    "plt.contourf(X, Y, Z_ros, 50)\n",
    "plt.colorbar(pad=0.01, aspect=40, shrink=1.0)\n",
    "plt.xlabel('x', fontsize = title_font)\n",
    "plt.ylabel('y', fontsize = title_font)\n",
    "plt.annotate('Rosenbrock Function', xy = (0.05, 0.93), xycoords = 'axes fraction', fontsize=20)\n",
    "\n",
    "plt.show()\n"
   ]
  },
  {
   "cell_type": "markdown",
   "metadata": {
    "collapsed": true
   },
   "source": [
    "## Calculating the Gauss-Newton method for Rosenbrock"
   ]
  },
  {
   "cell_type": "code",
   "execution_count": null,
   "metadata": {
    "collapsed": false
   },
   "outputs": [],
   "source": [
    "itmax = 10\n",
    "\n",
    "px = []\n",
    "py = []\n",
    "\n",
    "px0 = -1.\n",
    "py0 = 7.\n",
    "\n",
    "px.append(px0)\n",
    "py.append(py0)\n",
    "\n",
    "phi = []\n",
    "it = []\n",
    "for i in range(itmax):\n",
    "    A = sensitivity_ros(px[i],py[i])\n",
    "    AtA = np.dot(A.T,A)\n",
    "    \n",
    "    res = residual_ros(px[i],py[i])\n",
    "    Atr = np.dot(A.T,res)\n",
    "    \n",
    "    dp = np.linalg.solve(AtA,-Atr)    \n",
    "    \n",
    "    px.append(px[i] + dp[0])\n",
    "    py.append(py[i] + dp[1])\n",
    "    \n",
    "    f_plus = rosenbrock(px[i+1],py[i+1])\n",
    "    phi.append(f_plus)\n",
    "    it.append(i)\n",
    "    \n",
    "    print 'iteration:', i\n",
    "    print 'p1 = %.2f | p2 = %.2f' % (px[i],py[i])\n",
    "    print 'Rosenbrock value:', f_plus\n"
   ]
  },
  {
   "cell_type": "code",
   "execution_count": null,
   "metadata": {
    "collapsed": false
   },
   "outputs": [],
   "source": [
    "title_font = 22\n",
    "bottom_font = 16\n",
    "saturation_factor = 1.\n",
    "plt.close('all')\n",
    "plt.figure(figsize=(10,8))\n",
    "plt.contourf(X, Y, Z_ros, 50)\n",
    "plt.plot(px,py,'w.-')\n",
    "plt.colorbar(pad=0.01, aspect=40, shrink=1.0)\n",
    "plt.xlabel('x', fontsize = title_font)\n",
    "plt.ylabel('y', fontsize = title_font)\n",
    "plt.annotate('Rosenbrock Function', xy = (0.05, 0.93), xycoords = 'axes fraction', fontsize=20)\n",
    "\n",
    "plt.show()"
   ]
  },
  {
   "cell_type": "markdown",
   "metadata": {},
   "source": [
    "## Comparison between these two tests"
   ]
  },
  {
   "cell_type": "code",
   "execution_count": null,
   "metadata": {
    "collapsed": false
   },
   "outputs": [],
   "source": [
    "plt.figure(figsize=(10,8))\n",
    "\n",
    "plt.plot(it, phi, 'o-')\n",
    "plt.title('Analysis of the function',fontsize=20)\n",
    "plt.ylabel('phi for Newton Method (rosenbrock)',fontsize=15)\n",
    "plt.xlabel('iteration',)\n",
    "\n",
    "plt.show()\n"
   ]
  },
  {
   "cell_type": "code",
   "execution_count": null,
   "metadata": {
    "collapsed": true
   },
   "outputs": [],
   "source": []
  }
 ],
 "metadata": {
  "kernelspec": {
   "display_name": "Python 2",
   "language": "python",
   "name": "python2"
  },
  "language_info": {
   "codemirror_mode": {
    "name": "ipython",
    "version": 2
   },
   "file_extension": ".py",
   "mimetype": "text/x-python",
   "name": "python",
   "nbconvert_exporter": "python",
   "pygments_lexer": "ipython2",
   "version": "2.7.13"
  }
 },
 "nbformat": 4,
 "nbformat_minor": 0
}
