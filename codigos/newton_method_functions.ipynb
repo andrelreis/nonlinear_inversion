{
 "cells": [
  {
   "cell_type": "markdown",
   "metadata": {},
   "source": [
    "# An optimization using Newton method"
   ]
  },
  {
   "cell_type": "markdown",
   "metadata": {},
   "source": [
    "## Importing libraries"
   ]
  },
  {
   "cell_type": "code",
   "execution_count": null,
   "metadata": {
    "collapsed": true
   },
   "outputs": [],
   "source": [
    "%matplotlib inline\n",
    "import numpy as np\n",
    "import matplotlib.pyplot as plt\n",
    "from visual import histeq"
   ]
  },
  {
   "cell_type": "markdown",
   "metadata": {
    "collapsed": true
   },
   "source": [
    "## Defining functions"
   ]
  },
  {
   "cell_type": "markdown",
   "metadata": {
    "collapsed": true
   },
   "source": [
    "### Rosenbrock function"
   ]
  },
  {
   "cell_type": "code",
   "execution_count": null,
   "metadata": {
    "collapsed": true
   },
   "outputs": [],
   "source": [
    "def rosenbrock(x,y):\n",
    "    '''\n",
    "    Calculate the rosenbrock function.   \n",
    "    \n",
    "    '''\n",
    "    p1 = x\n",
    "    p2 = y\n",
    "    z = 100.*(p2-p1**2)**2 + (1.- p1)**2\n",
    "    return z"
   ]
  },
  {
   "cell_type": "code",
   "execution_count": null,
   "metadata": {
    "collapsed": true
   },
   "outputs": [],
   "source": [
    "def rosenbrock_grad(x,y):\n",
    "    '''\n",
    "    Calculate the gradient of rosenbrock function.\n",
    "    '''\n",
    "    p1 = x\n",
    "    p2 = y\n",
    "    J1 = -400.*p1*(p2-p1**2) - 2.*(1.- p1)\n",
    "    J2 = 200.*(p2-p1**2)\n",
    "    J = np.array([J1,J2])\n",
    "    return J"
   ]
  },
  {
   "cell_type": "code",
   "execution_count": null,
   "metadata": {
    "collapsed": false
   },
   "outputs": [],
   "source": [
    "def hessian_rosenbrock(x,y):\n",
    "    '''\n",
    "    Calculate the hessian matrix for rosenbrock function.\n",
    "    '''\n",
    "    p1 = x\n",
    "    p2 = y\n",
    "    H11 = -400.*p2 + 1200.*p1**2 + 2.\n",
    "    H12 = -400.*p1 \n",
    "    H21 = -400.*p1\n",
    "    H22 = 200.\n",
    "    \n",
    "    H = np.array([H11,H12,H21,H22]).reshape(2,2)\n",
    "    return H"
   ]
  },
  {
   "cell_type": "markdown",
   "metadata": {},
   "source": [
    "### $p^T p$ function"
   ]
  },
  {
   "cell_type": "code",
   "execution_count": null,
   "metadata": {
    "collapsed": true
   },
   "outputs": [],
   "source": [
    "def ptp(x,y):\n",
    "    '''\n",
    "    Calculate the rosenbrock function.   \n",
    "    \n",
    "    '''\n",
    "    p1 = x\n",
    "    p2 = y\n",
    "    z = p1**2 + p2**2\n",
    "    return z"
   ]
  },
  {
   "cell_type": "code",
   "execution_count": null,
   "metadata": {
    "collapsed": true
   },
   "outputs": [],
   "source": [
    "def ptp_grad(x,y):\n",
    "    '''\n",
    "    Calculate the gradient of rosenbrock function.\n",
    "    '''\n",
    "    p1 = x\n",
    "    p2 = y\n",
    "    J1 = 2.*p1\n",
    "    J2 = 2.*p2\n",
    "    J = np.array([J1,J2])\n",
    "    return J"
   ]
  },
  {
   "cell_type": "code",
   "execution_count": null,
   "metadata": {
    "collapsed": true
   },
   "outputs": [],
   "source": [
    "def hessian_ptp(x,y):\n",
    "    '''\n",
    "    Calculate the hessian matrix for rosenbrock function.\n",
    "    '''\n",
    "    p1 = x\n",
    "    p2 = y\n",
    "    H11 = 2.\n",
    "    H12 = 0. \n",
    "    H21 = 0.\n",
    "    H22 = 2.\n",
    "    \n",
    "    H = np.array([H11,H12,H21,H22]).reshape(2,2)\n",
    "    return H"
   ]
  },
  {
   "cell_type": "markdown",
   "metadata": {},
   "source": [
    "## Parameters for calculating the rosenbrock function "
   ]
  },
  {
   "cell_type": "code",
   "execution_count": null,
   "metadata": {
    "collapsed": true
   },
   "outputs": [],
   "source": [
    "Nx = 20\n",
    "Ny = 20"
   ]
  },
  {
   "cell_type": "code",
   "execution_count": null,
   "metadata": {
    "collapsed": true
   },
   "outputs": [],
   "source": [
    "x = np.linspace(-5.,5.,num=Nx)\n",
    "y = np.linspace(-10.,10.,num=Ny)\n",
    "X,Y = np.meshgrid(x,y)"
   ]
  },
  {
   "cell_type": "code",
   "execution_count": null,
   "metadata": {
    "collapsed": true
   },
   "outputs": [],
   "source": [
    "Z = rosenbrock(X,Y) "
   ]
  },
  {
   "cell_type": "code",
   "execution_count": null,
   "metadata": {
    "collapsed": false
   },
   "outputs": [],
   "source": [
    "Z_ros = histeq(Z).reshape(Nx,Ny)"
   ]
  },
  {
   "cell_type": "markdown",
   "metadata": {},
   "source": [
    "## Parameters for calculating $p^T p$ function"
   ]
  },
  {
   "cell_type": "code",
   "execution_count": null,
   "metadata": {
    "collapsed": true
   },
   "outputs": [],
   "source": [
    "Nx = 20\n",
    "Ny = 20"
   ]
  },
  {
   "cell_type": "code",
   "execution_count": null,
   "metadata": {
    "collapsed": true
   },
   "outputs": [],
   "source": [
    "x = np.linspace(-5.,5.,num=Nx)\n",
    "y = np.linspace(-10.,10.,num=Ny)\n",
    "X,Y = np.meshgrid(x,y)"
   ]
  },
  {
   "cell_type": "code",
   "execution_count": null,
   "metadata": {
    "collapsed": true
   },
   "outputs": [],
   "source": [
    "Z = ptp(X,Y) "
   ]
  },
  {
   "cell_type": "code",
   "execution_count": null,
   "metadata": {
    "collapsed": false
   },
   "outputs": [],
   "source": [
    "Z_ptp = histeq(Z).reshape(Nx,Ny)"
   ]
  },
  {
   "cell_type": "markdown",
   "metadata": {
    "collapsed": true
   },
   "source": [
    "## Visuatization of the Rosenbrock function \n"
   ]
  },
  {
   "cell_type": "code",
   "execution_count": null,
   "metadata": {
    "collapsed": false
   },
   "outputs": [],
   "source": [
    "title_font = 22\n",
    "bottom_font = 16\n",
    "saturation_factor = 1.\n",
    "plt.close('all')\n",
    "plt.figure(figsize=(10,8))\n",
    "plt.contourf(X, Y, Z_ros, 50)\n",
    "plt.colorbar(pad=0.01, aspect=40, shrink=1.0)\n",
    "plt.xlabel('x', fontsize = title_font)\n",
    "plt.ylabel('y', fontsize = title_font)\n",
    "plt.annotate('Rosenbrock Function', xy = (0.05, 0.93), xycoords = 'axes fraction', fontsize=20)\n",
    "\n",
    "plt.show()\n"
   ]
  },
  {
   "cell_type": "markdown",
   "metadata": {},
   "source": [
    "## Visuatization of the $p^T p$ function \n"
   ]
  },
  {
   "cell_type": "code",
   "execution_count": null,
   "metadata": {
    "collapsed": false
   },
   "outputs": [],
   "source": [
    "title_font = 22\n",
    "bottom_font = 16\n",
    "saturation_factor = 1.\n",
    "plt.close('all')\n",
    "plt.figure(figsize=(10,8))\n",
    "plt.contourf(X, Y, Z_ptp, 50)\n",
    "plt.colorbar(pad=0.01, aspect=40, shrink=1.0)\n",
    "plt.xlabel('x', fontsize = title_font)\n",
    "plt.ylabel('y', fontsize = title_font)\n",
    "plt.annotate('$p^T p$ Function', xy = (0.05, 0.93), xycoords = 'axes fraction', fontsize=20)\n",
    "\n",
    "plt.show()\n"
   ]
  },
  {
   "cell_type": "markdown",
   "metadata": {
    "collapsed": true
   },
   "source": [
    "## Calculating the Newton method for Rosenbrock"
   ]
  },
  {
   "cell_type": "code",
   "execution_count": null,
   "metadata": {
    "collapsed": false
   },
   "outputs": [],
   "source": [
    "itmax = 10\n",
    "\n",
    "px = []\n",
    "py = []\n",
    "\n",
    "px0 = -1.\n",
    "py0 = 7.\n",
    "\n",
    "px.append(px0)\n",
    "py.append(py0)\n",
    "\n",
    "phi = []\n",
    "it = []\n",
    "for i in range(itmax):\n",
    "    J = rosenbrock_grad(px[i],py[i])\n",
    "    H = hessian_rosenbrock(px[i],py[i])\n",
    "    H_inv = np.linalg.inv(H)\n",
    "    f_pi = rosenbrock(px[i],py[i])\n",
    "    \n",
    "    px.append(px[i] - np.dot(H_inv[0],J))\n",
    "    py.append(py[i] - np.dot(H_inv[1],J))\n",
    "    \n",
    "    f_plus = rosenbrock(px[i+1],py[i+1])\n",
    "    \n",
    "    phi.append(f_plus)\n",
    "    it.append(i)\n",
    "    \n",
    "    print 'iteration:', i\n",
    "    print 'p1 = %.2f | p2 = %.2f' % (px[i],py[i])\n",
    "    print 'Rosenbrock value:', f_plus\n"
   ]
  },
  {
   "cell_type": "code",
   "execution_count": null,
   "metadata": {
    "collapsed": false
   },
   "outputs": [],
   "source": [
    "title_font = 22\n",
    "bottom_font = 16\n",
    "saturation_factor = 1.\n",
    "plt.close('all')\n",
    "plt.figure(figsize=(10,8))\n",
    "plt.contourf(X, Y, Z_ros, 50)\n",
    "plt.plot(px,py,'w.-')\n",
    "plt.colorbar(pad=0.01, aspect=40, shrink=1.0)\n",
    "plt.xlabel('x', fontsize = title_font)\n",
    "plt.ylabel('y', fontsize = title_font)\n",
    "plt.annotate('Rosenbrock Function', xy = (0.05, 0.93), xycoords = 'axes fraction', fontsize=20)\n",
    "\n",
    "plt.show()"
   ]
  },
  {
   "cell_type": "markdown",
   "metadata": {},
   "source": [
    "## Calculating Newton Method for $p^T p$ function"
   ]
  },
  {
   "cell_type": "code",
   "execution_count": null,
   "metadata": {
    "collapsed": false
   },
   "outputs": [],
   "source": [
    "itmax = 10\n",
    "\n",
    "px_ptp = []\n",
    "py_ptp = []\n",
    "\n",
    "px0_ptp = -1.\n",
    "py0_ptp = 7.\n",
    "\n",
    "px_ptp.append(px0_ptp)\n",
    "py_ptp.append(py0_ptp)\n",
    "\n",
    "phi_ptp = []\n",
    "it_ptp = []\n",
    "for i in range(itmax):\n",
    "    J = ptp_grad(px_ptp[i],py_ptp[i])\n",
    "    H = hessian_ptp(px_ptp[i],py_ptp[i])\n",
    "    H_inv = np.linalg.inv(H)\n",
    "    f_pi = ptp(px_ptp[i],py_ptp[i])\n",
    "    \n",
    "    px_ptp.append(px_ptp[i] - np.dot(H_inv[0],J))\n",
    "    py_ptp.append(py_ptp[i] - np.dot(H_inv[1],J))\n",
    "    \n",
    "    f_plus = ptp(px_ptp[i+1],py_ptp[i+1])\n",
    "    \n",
    "    phi_ptp.append(f_plus)\n",
    "    it_ptp.append(i)\n",
    "    \n",
    "    print 'iteration:', i\n",
    "    print 'p1 = %.2f | p2 = %.2f' % (px_ptp[i],py_ptp[i])\n",
    "    print '$p^T p$ value:', f_plus"
   ]
  },
  {
   "cell_type": "code",
   "execution_count": null,
   "metadata": {
    "collapsed": false
   },
   "outputs": [],
   "source": [
    "title_font = 22\n",
    "bottom_font = 16\n",
    "saturation_factor = 1.\n",
    "plt.close('all')\n",
    "plt.figure(figsize=(10,8))\n",
    "plt.contourf(X, Y, Z_ptp, 50)\n",
    "plt.plot(px_ptp,py_ptp,'w.-')\n",
    "plt.colorbar(pad=0.01, aspect=40, shrink=1.0)\n",
    "plt.xlabel('x', fontsize = title_font)\n",
    "plt.ylabel('y', fontsize = title_font)\n",
    "plt.annotate('$p^T p$ Function', xy = (0.05, 0.93), xycoords = 'axes fraction', fontsize=20)\n",
    "\n",
    "plt.show()"
   ]
  },
  {
   "cell_type": "markdown",
   "metadata": {},
   "source": [
    "## Comparison between these two tests"
   ]
  },
  {
   "cell_type": "code",
   "execution_count": null,
   "metadata": {
    "collapsed": false
   },
   "outputs": [],
   "source": [
    "plt.figure(figsize=(10,8))\n",
    "\n",
    "plt.plot(it, phi, 'o-')\n",
    "plt.title('Analysis of the function',fontsize=20)\n",
    "plt.ylabel('phi for Newton Method (rosenbrock)',fontsize=15)\n",
    "plt.xlabel('iteration',)\n",
    "\n",
    "plt.show()\n"
   ]
  },
  {
   "cell_type": "code",
   "execution_count": null,
   "metadata": {
    "collapsed": false
   },
   "outputs": [],
   "source": [
    "plt.figure(figsize=(10,8))\n",
    "\n",
    "plt.plot(it_ptp, phi_ptp, 'o-')\n",
    "plt.title('Analysis of the function',fontsize=20)\n",
    "plt.ylabel('phi for Newton Method ($p^T p$)',fontsize=15)\n",
    "\n",
    "plt.show()\n"
   ]
  }
 ],
 "metadata": {
  "kernelspec": {
   "display_name": "Python [Root]",
   "language": "python",
   "name": "Python [Root]"
  },
  "language_info": {
   "codemirror_mode": {
    "name": "ipython",
    "version": 2
   },
   "file_extension": ".py",
   "mimetype": "text/x-python",
   "name": "python",
   "nbconvert_exporter": "python",
   "pygments_lexer": "ipython2",
   "version": "2.7.12"
  }
 },
 "nbformat": 4,
 "nbformat_minor": 0
}
